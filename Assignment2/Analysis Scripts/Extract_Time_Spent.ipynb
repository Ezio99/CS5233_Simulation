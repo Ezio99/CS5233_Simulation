{
 "cells": [
  {
   "cell_type": "code",
   "id": "initial_id",
   "metadata": {
    "collapsed": true,
    "ExecuteTime": {
     "end_time": "2025-03-16T10:51:01.714802Z",
     "start_time": "2025-03-16T10:51:01.711964Z"
    }
   },
   "source": [
    "import pandas as pd\n",
    "import os"
   ],
   "outputs": [],
   "execution_count": 50
  },
  {
   "metadata": {
    "ExecuteTime": {
     "end_time": "2025-03-16T10:51:01.853213Z",
     "start_time": "2025-03-16T10:51:01.726692Z"
    }
   },
   "cell_type": "code",
   "source": [
    "file_path = \"timespent.xlsx\"  # Update with actual file path if needed\n",
    "df = pd.read_excel(file_path)\n",
    "\n",
    "df"
   ],
   "id": "f5ebb04b891f9c50",
   "outputs": [
    {
     "data": {
      "text/plain": [
       "     Attraction   Time spent in Attraction (minutes) Unnamed: 2  Unnamed: 3  \\\n",
       "0             A                                 34.2                    NaN   \n",
       "1             A                                 28.2        NaN         NaN   \n",
       "2             A                                 24.9        NaN         NaN   \n",
       "3             A                                 34.3        NaN         NaN   \n",
       "4             A                                 28.1        NaN         NaN   \n",
       "...          ...                                 ...        ...         ...   \n",
       "2395           D                                20.5        NaN         NaN   \n",
       "2396           D                                31.2        NaN         NaN   \n",
       "2397           D                                34.6        NaN         NaN   \n",
       "2398           D                                18.0        NaN         NaN   \n",
       "2399           D                                15.0        NaN         NaN   \n",
       "\n",
       "      Unnamed: 4       \n",
       "0            NaN  NaN  \n",
       "1            NaN  NaN  \n",
       "2            NaN  NaN  \n",
       "3            NaN  NaN  \n",
       "4            NaN  NaN  \n",
       "...          ...  ...  \n",
       "2395         NaN  NaN  \n",
       "2396         NaN  NaN  \n",
       "2397         NaN  NaN  \n",
       "2398         NaN  NaN  \n",
       "2399         NaN  NaN  \n",
       "\n",
       "[2400 rows x 6 columns]"
      ],
      "text/html": [
       "<div>\n",
       "<style scoped>\n",
       "    .dataframe tbody tr th:only-of-type {\n",
       "        vertical-align: middle;\n",
       "    }\n",
       "\n",
       "    .dataframe tbody tr th {\n",
       "        vertical-align: top;\n",
       "    }\n",
       "\n",
       "    .dataframe thead th {\n",
       "        text-align: right;\n",
       "    }\n",
       "</style>\n",
       "<table border=\"1\" class=\"dataframe\">\n",
       "  <thead>\n",
       "    <tr style=\"text-align: right;\">\n",
       "      <th></th>\n",
       "      <th>Attraction</th>\n",
       "      <th>Time spent in Attraction (minutes)</th>\n",
       "      <th>Unnamed: 2</th>\n",
       "      <th>Unnamed: 3</th>\n",
       "      <th>Unnamed: 4</th>\n",
       "      <th></th>\n",
       "    </tr>\n",
       "  </thead>\n",
       "  <tbody>\n",
       "    <tr>\n",
       "      <th>0</th>\n",
       "      <td>A</td>\n",
       "      <td>34.2</td>\n",
       "      <td></td>\n",
       "      <td>NaN</td>\n",
       "      <td>NaN</td>\n",
       "      <td>NaN</td>\n",
       "    </tr>\n",
       "    <tr>\n",
       "      <th>1</th>\n",
       "      <td>A</td>\n",
       "      <td>28.2</td>\n",
       "      <td>NaN</td>\n",
       "      <td>NaN</td>\n",
       "      <td>NaN</td>\n",
       "      <td>NaN</td>\n",
       "    </tr>\n",
       "    <tr>\n",
       "      <th>2</th>\n",
       "      <td>A</td>\n",
       "      <td>24.9</td>\n",
       "      <td>NaN</td>\n",
       "      <td>NaN</td>\n",
       "      <td>NaN</td>\n",
       "      <td>NaN</td>\n",
       "    </tr>\n",
       "    <tr>\n",
       "      <th>3</th>\n",
       "      <td>A</td>\n",
       "      <td>34.3</td>\n",
       "      <td>NaN</td>\n",
       "      <td>NaN</td>\n",
       "      <td>NaN</td>\n",
       "      <td>NaN</td>\n",
       "    </tr>\n",
       "    <tr>\n",
       "      <th>4</th>\n",
       "      <td>A</td>\n",
       "      <td>28.1</td>\n",
       "      <td>NaN</td>\n",
       "      <td>NaN</td>\n",
       "      <td>NaN</td>\n",
       "      <td>NaN</td>\n",
       "    </tr>\n",
       "    <tr>\n",
       "      <th>...</th>\n",
       "      <td>...</td>\n",
       "      <td>...</td>\n",
       "      <td>...</td>\n",
       "      <td>...</td>\n",
       "      <td>...</td>\n",
       "      <td>...</td>\n",
       "    </tr>\n",
       "    <tr>\n",
       "      <th>2395</th>\n",
       "      <td>D</td>\n",
       "      <td>20.5</td>\n",
       "      <td>NaN</td>\n",
       "      <td>NaN</td>\n",
       "      <td>NaN</td>\n",
       "      <td>NaN</td>\n",
       "    </tr>\n",
       "    <tr>\n",
       "      <th>2396</th>\n",
       "      <td>D</td>\n",
       "      <td>31.2</td>\n",
       "      <td>NaN</td>\n",
       "      <td>NaN</td>\n",
       "      <td>NaN</td>\n",
       "      <td>NaN</td>\n",
       "    </tr>\n",
       "    <tr>\n",
       "      <th>2397</th>\n",
       "      <td>D</td>\n",
       "      <td>34.6</td>\n",
       "      <td>NaN</td>\n",
       "      <td>NaN</td>\n",
       "      <td>NaN</td>\n",
       "      <td>NaN</td>\n",
       "    </tr>\n",
       "    <tr>\n",
       "      <th>2398</th>\n",
       "      <td>D</td>\n",
       "      <td>18.0</td>\n",
       "      <td>NaN</td>\n",
       "      <td>NaN</td>\n",
       "      <td>NaN</td>\n",
       "      <td>NaN</td>\n",
       "    </tr>\n",
       "    <tr>\n",
       "      <th>2399</th>\n",
       "      <td>D</td>\n",
       "      <td>15.0</td>\n",
       "      <td>NaN</td>\n",
       "      <td>NaN</td>\n",
       "      <td>NaN</td>\n",
       "      <td>NaN</td>\n",
       "    </tr>\n",
       "  </tbody>\n",
       "</table>\n",
       "<p>2400 rows × 6 columns</p>\n",
       "</div>"
      ]
     },
     "execution_count": 51,
     "metadata": {},
     "output_type": "execute_result"
    }
   ],
   "execution_count": 51
  },
  {
   "metadata": {
    "ExecuteTime": {
     "end_time": "2025-03-16T10:51:01.962758Z",
     "start_time": "2025-03-16T10:51:01.949539Z"
    }
   },
   "cell_type": "code",
   "source": "df.columns = df.columns.str.strip()",
   "id": "34fe938ba6170164",
   "outputs": [],
   "execution_count": 52
  },
  {
   "metadata": {
    "ExecuteTime": {
     "end_time": "2025-03-16T10:51:02.055340Z",
     "start_time": "2025-03-16T10:51:02.025949Z"
    }
   },
   "cell_type": "code",
   "source": [
    "df = df.iloc[:, :2]\n",
    "\n",
    "df"
   ],
   "id": "e50d78ef87d2933e",
   "outputs": [
    {
     "data": {
      "text/plain": [
       "     Attraction  Time spent in Attraction (minutes)\n",
       "0            A                                 34.2\n",
       "1            A                                 28.2\n",
       "2            A                                 24.9\n",
       "3            A                                 34.3\n",
       "4            A                                 28.1\n",
       "...         ...                                 ...\n",
       "2395          D                                20.5\n",
       "2396          D                                31.2\n",
       "2397          D                                34.6\n",
       "2398          D                                18.0\n",
       "2399          D                                15.0\n",
       "\n",
       "[2400 rows x 2 columns]"
      ],
      "text/html": [
       "<div>\n",
       "<style scoped>\n",
       "    .dataframe tbody tr th:only-of-type {\n",
       "        vertical-align: middle;\n",
       "    }\n",
       "\n",
       "    .dataframe tbody tr th {\n",
       "        vertical-align: top;\n",
       "    }\n",
       "\n",
       "    .dataframe thead th {\n",
       "        text-align: right;\n",
       "    }\n",
       "</style>\n",
       "<table border=\"1\" class=\"dataframe\">\n",
       "  <thead>\n",
       "    <tr style=\"text-align: right;\">\n",
       "      <th></th>\n",
       "      <th>Attraction</th>\n",
       "      <th>Time spent in Attraction (minutes)</th>\n",
       "    </tr>\n",
       "  </thead>\n",
       "  <tbody>\n",
       "    <tr>\n",
       "      <th>0</th>\n",
       "      <td>A</td>\n",
       "      <td>34.2</td>\n",
       "    </tr>\n",
       "    <tr>\n",
       "      <th>1</th>\n",
       "      <td>A</td>\n",
       "      <td>28.2</td>\n",
       "    </tr>\n",
       "    <tr>\n",
       "      <th>2</th>\n",
       "      <td>A</td>\n",
       "      <td>24.9</td>\n",
       "    </tr>\n",
       "    <tr>\n",
       "      <th>3</th>\n",
       "      <td>A</td>\n",
       "      <td>34.3</td>\n",
       "    </tr>\n",
       "    <tr>\n",
       "      <th>4</th>\n",
       "      <td>A</td>\n",
       "      <td>28.1</td>\n",
       "    </tr>\n",
       "    <tr>\n",
       "      <th>...</th>\n",
       "      <td>...</td>\n",
       "      <td>...</td>\n",
       "    </tr>\n",
       "    <tr>\n",
       "      <th>2395</th>\n",
       "      <td>D</td>\n",
       "      <td>20.5</td>\n",
       "    </tr>\n",
       "    <tr>\n",
       "      <th>2396</th>\n",
       "      <td>D</td>\n",
       "      <td>31.2</td>\n",
       "    </tr>\n",
       "    <tr>\n",
       "      <th>2397</th>\n",
       "      <td>D</td>\n",
       "      <td>34.6</td>\n",
       "    </tr>\n",
       "    <tr>\n",
       "      <th>2398</th>\n",
       "      <td>D</td>\n",
       "      <td>18.0</td>\n",
       "    </tr>\n",
       "    <tr>\n",
       "      <th>2399</th>\n",
       "      <td>D</td>\n",
       "      <td>15.0</td>\n",
       "    </tr>\n",
       "  </tbody>\n",
       "</table>\n",
       "<p>2400 rows × 2 columns</p>\n",
       "</div>"
      ]
     },
     "execution_count": 53,
     "metadata": {},
     "output_type": "execute_result"
    }
   ],
   "execution_count": 53
  },
  {
   "metadata": {
    "ExecuteTime": {
     "end_time": "2025-03-16T10:51:02.456449Z",
     "start_time": "2025-03-16T10:51:02.406440Z"
    }
   },
   "cell_type": "code",
   "source": [
    "df.columns = [\"Attraction\", \"TimeSpent\"]\n",
    "\n",
    "df"
   ],
   "id": "1eb90fb86c910926",
   "outputs": [
    {
     "data": {
      "text/plain": [
       "     Attraction  TimeSpent\n",
       "0            A        34.2\n",
       "1            A        28.2\n",
       "2            A        24.9\n",
       "3            A        34.3\n",
       "4            A        28.1\n",
       "...         ...        ...\n",
       "2395          D       20.5\n",
       "2396          D       31.2\n",
       "2397          D       34.6\n",
       "2398          D       18.0\n",
       "2399          D       15.0\n",
       "\n",
       "[2400 rows x 2 columns]"
      ],
      "text/html": [
       "<div>\n",
       "<style scoped>\n",
       "    .dataframe tbody tr th:only-of-type {\n",
       "        vertical-align: middle;\n",
       "    }\n",
       "\n",
       "    .dataframe tbody tr th {\n",
       "        vertical-align: top;\n",
       "    }\n",
       "\n",
       "    .dataframe thead th {\n",
       "        text-align: right;\n",
       "    }\n",
       "</style>\n",
       "<table border=\"1\" class=\"dataframe\">\n",
       "  <thead>\n",
       "    <tr style=\"text-align: right;\">\n",
       "      <th></th>\n",
       "      <th>Attraction</th>\n",
       "      <th>TimeSpent</th>\n",
       "    </tr>\n",
       "  </thead>\n",
       "  <tbody>\n",
       "    <tr>\n",
       "      <th>0</th>\n",
       "      <td>A</td>\n",
       "      <td>34.2</td>\n",
       "    </tr>\n",
       "    <tr>\n",
       "      <th>1</th>\n",
       "      <td>A</td>\n",
       "      <td>28.2</td>\n",
       "    </tr>\n",
       "    <tr>\n",
       "      <th>2</th>\n",
       "      <td>A</td>\n",
       "      <td>24.9</td>\n",
       "    </tr>\n",
       "    <tr>\n",
       "      <th>3</th>\n",
       "      <td>A</td>\n",
       "      <td>34.3</td>\n",
       "    </tr>\n",
       "    <tr>\n",
       "      <th>4</th>\n",
       "      <td>A</td>\n",
       "      <td>28.1</td>\n",
       "    </tr>\n",
       "    <tr>\n",
       "      <th>...</th>\n",
       "      <td>...</td>\n",
       "      <td>...</td>\n",
       "    </tr>\n",
       "    <tr>\n",
       "      <th>2395</th>\n",
       "      <td>D</td>\n",
       "      <td>20.5</td>\n",
       "    </tr>\n",
       "    <tr>\n",
       "      <th>2396</th>\n",
       "      <td>D</td>\n",
       "      <td>31.2</td>\n",
       "    </tr>\n",
       "    <tr>\n",
       "      <th>2397</th>\n",
       "      <td>D</td>\n",
       "      <td>34.6</td>\n",
       "    </tr>\n",
       "    <tr>\n",
       "      <th>2398</th>\n",
       "      <td>D</td>\n",
       "      <td>18.0</td>\n",
       "    </tr>\n",
       "    <tr>\n",
       "      <th>2399</th>\n",
       "      <td>D</td>\n",
       "      <td>15.0</td>\n",
       "    </tr>\n",
       "  </tbody>\n",
       "</table>\n",
       "<p>2400 rows × 2 columns</p>\n",
       "</div>"
      ]
     },
     "execution_count": 54,
     "metadata": {},
     "output_type": "execute_result"
    }
   ],
   "execution_count": 54
  },
  {
   "metadata": {
    "ExecuteTime": {
     "end_time": "2025-03-16T10:51:02.613886Z",
     "start_time": "2025-03-16T10:51:02.598672Z"
    }
   },
   "cell_type": "code",
   "source": "df.Attraction.unique()",
   "id": "ff41d2b917fcae47",
   "outputs": [
    {
     "data": {
      "text/plain": [
       "array(['A ', 'B', 'C', 'D'], dtype=object)"
      ]
     },
     "execution_count": 55,
     "metadata": {},
     "output_type": "execute_result"
    }
   ],
   "execution_count": 55
  },
  {
   "metadata": {
    "ExecuteTime": {
     "end_time": "2025-03-16T10:51:02.706540Z",
     "start_time": "2025-03-16T10:51:02.683070Z"
    }
   },
   "cell_type": "code",
   "source": "df[\"Attraction\"] = df[\"Attraction\"].str.strip()",
   "id": "fc35df2dbb43c482",
   "outputs": [],
   "execution_count": 56
  },
  {
   "metadata": {
    "ExecuteTime": {
     "end_time": "2025-03-16T10:51:02.785262Z",
     "start_time": "2025-03-16T10:51:02.773109Z"
    }
   },
   "cell_type": "code",
   "source": "df.Attraction.unique()",
   "id": "3daada3dbe65bcca",
   "outputs": [
    {
     "data": {
      "text/plain": [
       "array(['A', 'B', 'C', 'D'], dtype=object)"
      ]
     },
     "execution_count": 57,
     "metadata": {},
     "output_type": "execute_result"
    }
   ],
   "execution_count": 57
  },
  {
   "metadata": {
    "ExecuteTime": {
     "end_time": "2025-03-16T10:51:02.816552Z",
     "start_time": "2025-03-16T10:51:02.796957Z"
    }
   },
   "cell_type": "code",
   "source": "len(df)",
   "id": "ea091895e694f6e",
   "outputs": [
    {
     "data": {
      "text/plain": [
       "2400"
      ]
     },
     "execution_count": 58,
     "metadata": {},
     "output_type": "execute_result"
    }
   ],
   "execution_count": 58
  },
  {
   "metadata": {
    "ExecuteTime": {
     "end_time": "2025-03-16T10:51:02.847733Z",
     "start_time": "2025-03-16T10:51:02.835902Z"
    }
   },
   "cell_type": "code",
   "source": "df = df.dropna()",
   "id": "a97527ab9e4edc09",
   "outputs": [],
   "execution_count": 59
  },
  {
   "metadata": {
    "ExecuteTime": {
     "end_time": "2025-03-16T10:51:02.879277Z",
     "start_time": "2025-03-16T10:51:02.867056Z"
    }
   },
   "cell_type": "code",
   "source": "len(df)",
   "id": "ef54de684ca7f1e",
   "outputs": [
    {
     "data": {
      "text/plain": [
       "2400"
      ]
     },
     "execution_count": 60,
     "metadata": {},
     "output_type": "execute_result"
    }
   ],
   "execution_count": 60
  },
  {
   "metadata": {
    "ExecuteTime": {
     "end_time": "2025-03-16T10:51:02.910011Z",
     "start_time": "2025-03-16T10:51:02.896102Z"
    }
   },
   "cell_type": "code",
   "source": [
    "df[\"TimeSpent\"] = df[\"TimeSpent\"].astype(float)\n",
    "\n",
    "df.TimeSpent"
   ],
   "id": "50bcff0f0c540327",
   "outputs": [
    {
     "data": {
      "text/plain": [
       "0       34.2\n",
       "1       28.2\n",
       "2       24.9\n",
       "3       34.3\n",
       "4       28.1\n",
       "        ... \n",
       "2395    20.5\n",
       "2396    31.2\n",
       "2397    34.6\n",
       "2398    18.0\n",
       "2399    15.0\n",
       "Name: TimeSpent, Length: 2400, dtype: float64"
      ]
     },
     "execution_count": 61,
     "metadata": {},
     "output_type": "execute_result"
    }
   ],
   "execution_count": 61
  },
  {
   "metadata": {
    "ExecuteTime": {
     "end_time": "2025-03-16T10:51:03.001946Z",
     "start_time": "2025-03-16T10:51:02.988775Z"
    }
   },
   "cell_type": "code",
   "source": "df[df[\"Attraction\"] == \"A\"]",
   "id": "2233d930c1c97620",
   "outputs": [
    {
     "data": {
      "text/plain": [
       "    Attraction  TimeSpent\n",
       "0            A       34.2\n",
       "1            A       28.2\n",
       "2            A       24.9\n",
       "3            A       34.3\n",
       "4            A       28.1\n",
       "..         ...        ...\n",
       "595          A       32.7\n",
       "596          A       29.3\n",
       "597          A       33.9\n",
       "598          A       26.6\n",
       "599          A       40.8\n",
       "\n",
       "[600 rows x 2 columns]"
      ],
      "text/html": [
       "<div>\n",
       "<style scoped>\n",
       "    .dataframe tbody tr th:only-of-type {\n",
       "        vertical-align: middle;\n",
       "    }\n",
       "\n",
       "    .dataframe tbody tr th {\n",
       "        vertical-align: top;\n",
       "    }\n",
       "\n",
       "    .dataframe thead th {\n",
       "        text-align: right;\n",
       "    }\n",
       "</style>\n",
       "<table border=\"1\" class=\"dataframe\">\n",
       "  <thead>\n",
       "    <tr style=\"text-align: right;\">\n",
       "      <th></th>\n",
       "      <th>Attraction</th>\n",
       "      <th>TimeSpent</th>\n",
       "    </tr>\n",
       "  </thead>\n",
       "  <tbody>\n",
       "    <tr>\n",
       "      <th>0</th>\n",
       "      <td>A</td>\n",
       "      <td>34.2</td>\n",
       "    </tr>\n",
       "    <tr>\n",
       "      <th>1</th>\n",
       "      <td>A</td>\n",
       "      <td>28.2</td>\n",
       "    </tr>\n",
       "    <tr>\n",
       "      <th>2</th>\n",
       "      <td>A</td>\n",
       "      <td>24.9</td>\n",
       "    </tr>\n",
       "    <tr>\n",
       "      <th>3</th>\n",
       "      <td>A</td>\n",
       "      <td>34.3</td>\n",
       "    </tr>\n",
       "    <tr>\n",
       "      <th>4</th>\n",
       "      <td>A</td>\n",
       "      <td>28.1</td>\n",
       "    </tr>\n",
       "    <tr>\n",
       "      <th>...</th>\n",
       "      <td>...</td>\n",
       "      <td>...</td>\n",
       "    </tr>\n",
       "    <tr>\n",
       "      <th>595</th>\n",
       "      <td>A</td>\n",
       "      <td>32.7</td>\n",
       "    </tr>\n",
       "    <tr>\n",
       "      <th>596</th>\n",
       "      <td>A</td>\n",
       "      <td>29.3</td>\n",
       "    </tr>\n",
       "    <tr>\n",
       "      <th>597</th>\n",
       "      <td>A</td>\n",
       "      <td>33.9</td>\n",
       "    </tr>\n",
       "    <tr>\n",
       "      <th>598</th>\n",
       "      <td>A</td>\n",
       "      <td>26.6</td>\n",
       "    </tr>\n",
       "    <tr>\n",
       "      <th>599</th>\n",
       "      <td>A</td>\n",
       "      <td>40.8</td>\n",
       "    </tr>\n",
       "  </tbody>\n",
       "</table>\n",
       "<p>600 rows × 2 columns</p>\n",
       "</div>"
      ]
     },
     "execution_count": 62,
     "metadata": {},
     "output_type": "execute_result"
    }
   ],
   "execution_count": 62
  },
  {
   "metadata": {
    "ExecuteTime": {
     "end_time": "2025-03-16T10:51:03.140401Z",
     "start_time": "2025-03-16T10:51:03.127521Z"
    }
   },
   "cell_type": "code",
   "source": [
    "# for attraction in [\"A\", \"B\", \"C\", \"D\"]:\n",
    "#     df_attraction = df[df[\"Attraction\"] == attraction]\n",
    "#     df_attraction.to_excel(f\"{attraction}.xlsx\", index=False)"
   ],
   "id": "4ff1d6504a642412",
   "outputs": [],
   "execution_count": 63
  },
  {
   "metadata": {
    "ExecuteTime": {
     "end_time": "2025-03-16T10:51:04.993833Z",
     "start_time": "2025-03-16T10:51:04.948229Z"
    }
   },
   "cell_type": "code",
   "source": [
    "for attraction in [\"A\", \"B\", \"C\", \"D\"]:\n",
    "    df_attraction = df[df[\"Attraction\"] == attraction][\"TimeSpent\"]\n",
    "    \n",
    "    # Create folder for the attraction if it doesn't exist\n",
    "    folder_name = f\"./{attraction}\"\n",
    "    os.makedirs(folder_name, exist_ok=True)\n",
    "    \n",
    "    # Save the text file inside the folder\n",
    "    file_path = os.path.join(folder_name, f\"{attraction}.txt\")\n",
    "    with open(file_path, \"w\") as f:\n",
    "        for value in df_attraction:\n",
    "            f.write(f\"{value}\\n\")"
   ],
   "id": "59616e66d88c418e",
   "outputs": [],
   "execution_count": 64
  }
 ],
 "metadata": {
  "kernelspec": {
   "display_name": "Python 3",
   "language": "python",
   "name": "python3"
  },
  "language_info": {
   "codemirror_mode": {
    "name": "ipython",
    "version": 2
   },
   "file_extension": ".py",
   "mimetype": "text/x-python",
   "name": "python",
   "nbconvert_exporter": "python",
   "pygments_lexer": "ipython2",
   "version": "2.7.6"
  }
 },
 "nbformat": 4,
 "nbformat_minor": 5
}
