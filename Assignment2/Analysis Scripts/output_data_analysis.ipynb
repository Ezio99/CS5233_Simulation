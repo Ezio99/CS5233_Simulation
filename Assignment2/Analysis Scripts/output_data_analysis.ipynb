{
 "cells": [
  {
   "cell_type": "markdown",
   "metadata": {},
   "source": [
    "### Our Tasks & Output Data Analysis"
   ]
  },
  {
   "cell_type": "code",
   "execution_count": 391,
   "metadata": {},
   "outputs": [
    {
     "name": "stderr",
     "output_type": "stream",
     "text": [
      "/var/folders/gt/d0m_mbpj3_s59cfmmr0pkgg80000gn/T/ipykernel_18787/2725351323.py:9: FutureWarning: use_inf_as_na option is deprecated and will be removed in a future version. Convert inf values to NaN before operating instead.\n",
      "  pd.reset_option(\"all\")\n"
     ]
    }
   ],
   "source": [
    "from pathlib import Path\n",
    "import matplotlib.pyplot as plt\n",
    "import seaborn as sns\n",
    "import pandas as pd\n",
    "import numpy as np\n",
    "from scipy.stats import t, norm\n",
    "\n",
    "# reset display options\n",
    "pd.reset_option(\"all\")\n",
    "# width of the display to max\n",
    "pd.set_option('display.width', 1000)\n",
    "\n",
    "def load_and_clean_queue_data(folder_path: str, queue_type: str):\n",
    "    \"\"\"Loads and processes bicycle or dock queue files (A to D)\"\"\"\n",
    "    dfs = []\n",
    "    for station in ['A', 'B', 'C', 'D']:\n",
    "        filename = f\"{queue_type}_queue_{station}.csv\"\n",
    "        filepath = Path(folder_path) / filename\n",
    "        if filepath.exists():\n",
    "            df = pd.read_csv(filepath)\n",
    "            df[\"station\"] = station\n",
    "            df[\"queue_type\"] = queue_type\n",
    "            df[\"wait_time\"] = df[\"curr_WaitTime\"] - df[\"prev_WaitTime\"]\n",
    "            dfs.append(df[[\"replication_no\", \"id\", \"station\", \"queue_type\", \"wait_time\"]])\n",
    "    return pd.concat(dfs, ignore_index=True) if dfs else pd.DataFrame()\n",
    "\n",
    "def get_current_bicycle_and_dock_count(folder_path: str):\n",
    "    \"\"\"Get the current bicycle and dock count for each station\"\"\"\n",
    "    docksize_file = Path(folder_path) / \"docksize.csv\"\n",
    "    bicycles_count = 0\n",
    "    docks_count = 0\n",
    "    if docksize_file.exists():\n",
    "        docksize_df = pd.read_csv(docksize_file)\n",
    "        # 1st row skip header = availablebicycles + available docks\n",
    "        docksize_df = docksize_df.iloc[1:]\n",
    "        bicycles_count = int(docksize_df.iloc[0][\"availablebicycles\"]) + 1\n",
    "        docks_count = int(docksize_df.iloc[0][\"availabledock\"]) + int(docksize_df.iloc[0][\"availablebicycles\"])\n",
    "    return bicycles_count, docks_count\n",
    "\n",
    "# Combine bicycle and dock queue data\n",
    "def combine_all_queues(folder_path: str):\n",
    "    bicycle_df = load_and_clean_queue_data(folder_path, \"bicycle\")\n",
    "    dock_df = load_and_clean_queue_data(folder_path, \"dock\")\n",
    "    combined = pd.concat([bicycle_df, dock_df], ignore_index=True)\n",
    "    return combined\n",
    "\n",
    "# Compute average waiting time per tourist per replication\n",
    "def compute_per_tourist_avg_per_replication(wait_data: pd.DataFrame):\n",
    "    return wait_data.groupby([\"id\", \"replication_no\"])[\"wait_time\"].mean().reset_index(name=\"avg_wait_time_per_tourist\")\n",
    "\n",
    "# Compute average waiting time per tourist per replication per station\n",
    "def compute_per_tourist_avg_per_replication_per_station(wait_data: pd.DataFrame):\n",
    "    return wait_data.groupby([\"id\", \"replication_no\", \"station\"])[\"wait_time\"].mean().reset_index(name=\"avg_wait_time_per_tourist\")\n",
    "\n",
    "# Plot histogram and CDF\n",
    "def plot_wait_distributions(per_tourist_df: pd.DataFrame):\n",
    "    plt.figure(figsize=(12, 5))\n",
    "    plt.subplot(1, 2, 1)\n",
    "    sns.histplot(per_tourist_df[\"avg_wait_time_per_tourist\"], bins=20, kde=True)\n",
    "    plt.axvline(15, color='red', linestyle='--', label='Happy threshold (15 mins)')\n",
    "    plt.title(\"Histogram of Average Wait Time per Tourist\")\n",
    "    plt.xlabel(\"Average Wait Time (minutes)\")\n",
    "    plt.ylabel(\"Number of Tourists\")\n",
    "    plt.legend()\n",
    "\n",
    "    plt.subplot(1, 2, 2)\n",
    "    sns.ecdfplot(per_tourist_df[\"avg_wait_time_per_tourist\"])\n",
    "    plt.axvline(15, color='red', linestyle='--', label='Happy threshold (15 mins)')\n",
    "    plt.title(\"CDF of Average Wait Time per Tourist\")\n",
    "    plt.xlabel(\"Average Wait Time (minutes)\")\n",
    "    plt.ylabel(\"Proportion of Tourists\")\n",
    "    plt.legend()\n",
    "    plt.tight_layout()\n",
    "    plt.show()\n",
    "\n",
    "# Compute per replication stats\n",
    "def compute_per_replication_stats(wait_data: pd.DataFrame) -> pd.DataFrame:\n",
    "    \"\"\"Returns average waiting time, total arrival count, mean number of tourists waiting per replication\"\"\"\n",
    "    grouped = wait_data.groupby(\"replication_no\")\n",
    "    avg_wait_time = grouped[\"avg_wait_time_per_tourist\"].mean()\n",
    "    total_arrival_count = grouped[\"id\"].count()\n",
    "    tourists_waiting = (\n",
    "        grouped[\"avg_wait_time_per_tourist\"]\n",
    "        .apply(lambda x: (x > 0).sum())\n",
    "    )\n",
    "    mean_number_of_tourists_waiting = tourists_waiting / total_arrival_count\n",
    "    \n",
    "    result = pd.concat([\n",
    "        total_arrival_count.rename(\"total_arrival_count\"),\n",
    "        mean_number_of_tourists_waiting.rename(\"mean_tourists_waiting\"),\n",
    "        avg_wait_time.rename(\"avg_wait_time_per_tourist\"),\n",
    "    ], axis=1)\n",
    "\n",
    "    return result\n",
    "\n",
    "# Compute confidence interval\n",
    "def compute_confidence_interval(avg_waits: pd.Series, conf: float = 0.95, print_stats: bool = True):\n",
    "    n = len(avg_waits)\n",
    "    mean_x = avg_waits.mean()\n",
    "    std_s = avg_waits.std(ddof=1)  # sample std dev\n",
    "    alpha = 1 - conf\n",
    "\n",
    "    # Degrees of freedom\n",
    "    df = n - 1\n",
    "\n",
    "    # t critical value for 95% CI\n",
    "    t_crit = t.ppf(1 - alpha/2, df)\n",
    "\n",
    "    # Margin of error\n",
    "    margin = t_crit * (std_s / np.sqrt(n))\n",
    "\n",
    "    # Confidence Interval\n",
    "    conf_interval = (max(0, mean_x - margin), mean_x + margin)\n",
    "\n",
    "    if print_stats:\n",
    "        print(f\"Sample Mean: {mean_x}\")\n",
    "        print(f\"Sample Std Dev: {std_s}\")\n",
    "        print(f\"t-critical (95%): {t_crit}\")\n",
    "        print(f\"Margin of Error: {margin}\")\n",
    "        print(f\"Confidence Interval: {conf_interval}\")\n",
    "    return conf_interval, mean_x, std_s, t_crit, margin\n",
    "\n",
    "def compute_per_tourist_total_wait_time(data: pd.DataFrame):\n",
    "    return data.groupby([\"id\", \"replication_no\"])[\"wait_time\"].sum().reset_index(name=\"total_wait_time\")"
   ]
  },
  {
   "cell_type": "code",
   "execution_count": 392,
   "metadata": {},
   "outputs": [
    {
     "name": "stdout",
     "output_type": "stream",
     "text": [
      "Current Total Bicycles: 80\n",
      "Current Total Docks: 80\n"
     ]
    }
   ],
   "source": [
    "# file_name = \"data\"\n",
    "# data_path = f\"/Users/bharathraj/Downloads/CS5233_Simulation/Analysis/{file_name}\"\n",
    "\n",
    "data_path = f\"./data\"\n",
    "bicycle_count, dock_count = get_current_bicycle_and_dock_count(data_path)\n",
    "print(f\"Current Total Bicycles: {bicycle_count}\")\n",
    "print(f\"Current Total Docks: {dock_count}\")"
   ]
  },
  {
   "cell_type": "code",
   "execution_count": 393,
   "metadata": {},
   "outputs": [
    {
     "data": {
      "text/html": [
       "<div>\n",
       "<style scoped>\n",
       "    .dataframe tbody tr th:only-of-type {\n",
       "        vertical-align: middle;\n",
       "    }\n",
       "\n",
       "    .dataframe tbody tr th {\n",
       "        vertical-align: top;\n",
       "    }\n",
       "\n",
       "    .dataframe thead th {\n",
       "        text-align: right;\n",
       "    }\n",
       "</style>\n",
       "<table border=\"1\" class=\"dataframe\">\n",
       "  <thead>\n",
       "    <tr style=\"text-align: right;\">\n",
       "      <th></th>\n",
       "      <th>replication_no</th>\n",
       "      <th>id</th>\n",
       "      <th>station</th>\n",
       "      <th>queue_type</th>\n",
       "      <th>wait_time</th>\n",
       "    </tr>\n",
       "  </thead>\n",
       "  <tbody>\n",
       "    <tr>\n",
       "      <th>0</th>\n",
       "      <td>1</td>\n",
       "      <td>11</td>\n",
       "      <td>A</td>\n",
       "      <td>bicycle</td>\n",
       "      <td>0.0</td>\n",
       "    </tr>\n",
       "    <tr>\n",
       "      <th>1</th>\n",
       "      <td>1</td>\n",
       "      <td>16</td>\n",
       "      <td>A</td>\n",
       "      <td>bicycle</td>\n",
       "      <td>0.0</td>\n",
       "    </tr>\n",
       "    <tr>\n",
       "      <th>2</th>\n",
       "      <td>1</td>\n",
       "      <td>21</td>\n",
       "      <td>A</td>\n",
       "      <td>bicycle</td>\n",
       "      <td>0.0</td>\n",
       "    </tr>\n",
       "    <tr>\n",
       "      <th>3</th>\n",
       "      <td>1</td>\n",
       "      <td>24</td>\n",
       "      <td>A</td>\n",
       "      <td>bicycle</td>\n",
       "      <td>0.0</td>\n",
       "    </tr>\n",
       "    <tr>\n",
       "      <th>4</th>\n",
       "      <td>1</td>\n",
       "      <td>14</td>\n",
       "      <td>A</td>\n",
       "      <td>bicycle</td>\n",
       "      <td>0.0</td>\n",
       "    </tr>\n",
       "  </tbody>\n",
       "</table>\n",
       "</div>"
      ],
      "text/plain": [
       "   replication_no  id station queue_type  wait_time\n",
       "0               1  11       A    bicycle        0.0\n",
       "1               1  16       A    bicycle        0.0\n",
       "2               1  21       A    bicycle        0.0\n",
       "3               1  24       A    bicycle        0.0\n",
       "4               1  14       A    bicycle        0.0"
      ]
     },
     "execution_count": 393,
     "metadata": {},
     "output_type": "execute_result"
    }
   ],
   "source": [
    "# Bicycle Queue Data\n",
    "df_bicycle_queue = load_and_clean_queue_data(data_path, \"bicycle\")\n",
    "df_bicycle_queue.head()"
   ]
  },
  {
   "cell_type": "code",
   "execution_count": 394,
   "metadata": {},
   "outputs": [
    {
     "data": {
      "text/plain": [
       "array([1, 2, 3, 4, 5, 6])"
      ]
     },
     "execution_count": 394,
     "metadata": {},
     "output_type": "execute_result"
    }
   ],
   "source": [
    "# unique values of replication_no\n",
    "df_bicycle_queue[\"replication_no\"].unique()"
   ]
  },
  {
   "cell_type": "code",
   "execution_count": 395,
   "metadata": {},
   "outputs": [
    {
     "name": "stdout",
     "output_type": "stream",
     "text": [
      "<class 'pandas.core.frame.DataFrame'>\n",
      "RangeIndex: 13147 entries, 0 to 13146\n",
      "Data columns (total 5 columns):\n",
      " #   Column          Non-Null Count  Dtype  \n",
      "---  ------          --------------  -----  \n",
      " 0   replication_no  13147 non-null  int64  \n",
      " 1   id              13147 non-null  int64  \n",
      " 2   station         13147 non-null  object \n",
      " 3   queue_type      13147 non-null  object \n",
      " 4   wait_time       13147 non-null  float64\n",
      "dtypes: float64(1), int64(2), object(2)\n",
      "memory usage: 513.7+ KB\n"
     ]
    }
   ],
   "source": [
    "df_bicycle_queue.info()"
   ]
  },
  {
   "cell_type": "code",
   "execution_count": 396,
   "metadata": {},
   "outputs": [
    {
     "data": {
      "text/html": [
       "<div>\n",
       "<style scoped>\n",
       "    .dataframe tbody tr th:only-of-type {\n",
       "        vertical-align: middle;\n",
       "    }\n",
       "\n",
       "    .dataframe tbody tr th {\n",
       "        vertical-align: top;\n",
       "    }\n",
       "\n",
       "    .dataframe thead th {\n",
       "        text-align: right;\n",
       "    }\n",
       "</style>\n",
       "<table border=\"1\" class=\"dataframe\">\n",
       "  <thead>\n",
       "    <tr style=\"text-align: right;\">\n",
       "      <th></th>\n",
       "      <th>replication_no</th>\n",
       "      <th>id</th>\n",
       "      <th>station</th>\n",
       "      <th>queue_type</th>\n",
       "      <th>wait_time</th>\n",
       "    </tr>\n",
       "  </thead>\n",
       "  <tbody>\n",
       "    <tr>\n",
       "      <th>0</th>\n",
       "      <td>1</td>\n",
       "      <td>14</td>\n",
       "      <td>A</td>\n",
       "      <td>dock</td>\n",
       "      <td>0.0</td>\n",
       "    </tr>\n",
       "    <tr>\n",
       "      <th>1</th>\n",
       "      <td>1</td>\n",
       "      <td>22</td>\n",
       "      <td>A</td>\n",
       "      <td>dock</td>\n",
       "      <td>0.0</td>\n",
       "    </tr>\n",
       "    <tr>\n",
       "      <th>2</th>\n",
       "      <td>1</td>\n",
       "      <td>13</td>\n",
       "      <td>A</td>\n",
       "      <td>dock</td>\n",
       "      <td>0.0</td>\n",
       "    </tr>\n",
       "    <tr>\n",
       "      <th>3</th>\n",
       "      <td>1</td>\n",
       "      <td>32</td>\n",
       "      <td>A</td>\n",
       "      <td>dock</td>\n",
       "      <td>0.0</td>\n",
       "    </tr>\n",
       "    <tr>\n",
       "      <th>4</th>\n",
       "      <td>1</td>\n",
       "      <td>20</td>\n",
       "      <td>A</td>\n",
       "      <td>dock</td>\n",
       "      <td>0.0</td>\n",
       "    </tr>\n",
       "  </tbody>\n",
       "</table>\n",
       "</div>"
      ],
      "text/plain": [
       "   replication_no  id station queue_type  wait_time\n",
       "0               1  14       A       dock        0.0\n",
       "1               1  22       A       dock        0.0\n",
       "2               1  13       A       dock        0.0\n",
       "3               1  32       A       dock        0.0\n",
       "4               1  20       A       dock        0.0"
      ]
     },
     "execution_count": 396,
     "metadata": {},
     "output_type": "execute_result"
    }
   ],
   "source": [
    "# Dock Queue Data\n",
    "df_dock_queue = load_and_clean_queue_data(data_path, \"dock\")\n",
    "df_dock_queue.head()"
   ]
  },
  {
   "cell_type": "code",
   "execution_count": 397,
   "metadata": {},
   "outputs": [
    {
     "name": "stdout",
     "output_type": "stream",
     "text": [
      "<class 'pandas.core.frame.DataFrame'>\n",
      "RangeIndex: 12811 entries, 0 to 12810\n",
      "Data columns (total 5 columns):\n",
      " #   Column          Non-Null Count  Dtype  \n",
      "---  ------          --------------  -----  \n",
      " 0   replication_no  12811 non-null  int64  \n",
      " 1   id              12811 non-null  int64  \n",
      " 2   station         12811 non-null  object \n",
      " 3   queue_type      12811 non-null  object \n",
      " 4   wait_time       12811 non-null  float64\n",
      "dtypes: float64(1), int64(2), object(2)\n",
      "memory usage: 500.6+ KB\n"
     ]
    }
   ],
   "source": [
    "df_dock_queue.info()"
   ]
  },
  {
   "cell_type": "code",
   "execution_count": 398,
   "metadata": {},
   "outputs": [
    {
     "data": {
      "text/html": [
       "<div>\n",
       "<style scoped>\n",
       "    .dataframe tbody tr th:only-of-type {\n",
       "        vertical-align: middle;\n",
       "    }\n",
       "\n",
       "    .dataframe tbody tr th {\n",
       "        vertical-align: top;\n",
       "    }\n",
       "\n",
       "    .dataframe thead th {\n",
       "        text-align: right;\n",
       "    }\n",
       "</style>\n",
       "<table border=\"1\" class=\"dataframe\">\n",
       "  <thead>\n",
       "    <tr style=\"text-align: right;\">\n",
       "      <th></th>\n",
       "      <th>replication_no</th>\n",
       "      <th>id</th>\n",
       "      <th>station</th>\n",
       "      <th>queue_type</th>\n",
       "      <th>wait_time</th>\n",
       "    </tr>\n",
       "  </thead>\n",
       "  <tbody>\n",
       "    <tr>\n",
       "      <th>0</th>\n",
       "      <td>1</td>\n",
       "      <td>11</td>\n",
       "      <td>A</td>\n",
       "      <td>bicycle</td>\n",
       "      <td>0.0</td>\n",
       "    </tr>\n",
       "    <tr>\n",
       "      <th>1</th>\n",
       "      <td>1</td>\n",
       "      <td>16</td>\n",
       "      <td>A</td>\n",
       "      <td>bicycle</td>\n",
       "      <td>0.0</td>\n",
       "    </tr>\n",
       "    <tr>\n",
       "      <th>2</th>\n",
       "      <td>1</td>\n",
       "      <td>21</td>\n",
       "      <td>A</td>\n",
       "      <td>bicycle</td>\n",
       "      <td>0.0</td>\n",
       "    </tr>\n",
       "    <tr>\n",
       "      <th>3</th>\n",
       "      <td>1</td>\n",
       "      <td>24</td>\n",
       "      <td>A</td>\n",
       "      <td>bicycle</td>\n",
       "      <td>0.0</td>\n",
       "    </tr>\n",
       "    <tr>\n",
       "      <th>4</th>\n",
       "      <td>1</td>\n",
       "      <td>14</td>\n",
       "      <td>A</td>\n",
       "      <td>bicycle</td>\n",
       "      <td>0.0</td>\n",
       "    </tr>\n",
       "  </tbody>\n",
       "</table>\n",
       "</div>"
      ],
      "text/plain": [
       "   replication_no  id station queue_type  wait_time\n",
       "0               1  11       A    bicycle        0.0\n",
       "1               1  16       A    bicycle        0.0\n",
       "2               1  21       A    bicycle        0.0\n",
       "3               1  24       A    bicycle        0.0\n",
       "4               1  14       A    bicycle        0.0"
      ]
     },
     "execution_count": 398,
     "metadata": {},
     "output_type": "execute_result"
    }
   ],
   "source": [
    "data = pd.concat([df_bicycle_queue, df_dock_queue])\n",
    "data.head()"
   ]
  },
  {
   "cell_type": "code",
   "execution_count": 399,
   "metadata": {},
   "outputs": [
    {
     "data": {
      "text/html": [
       "<div>\n",
       "<style scoped>\n",
       "    .dataframe tbody tr th:only-of-type {\n",
       "        vertical-align: middle;\n",
       "    }\n",
       "\n",
       "    .dataframe tbody tr th {\n",
       "        vertical-align: top;\n",
       "    }\n",
       "\n",
       "    .dataframe thead th {\n",
       "        text-align: right;\n",
       "    }\n",
       "</style>\n",
       "<table border=\"1\" class=\"dataframe\">\n",
       "  <thead>\n",
       "    <tr style=\"text-align: right;\">\n",
       "      <th></th>\n",
       "      <th>replication_no</th>\n",
       "      <th>id</th>\n",
       "      <th>station</th>\n",
       "      <th>queue_type</th>\n",
       "      <th>wait_time</th>\n",
       "    </tr>\n",
       "  </thead>\n",
       "  <tbody>\n",
       "    <tr>\n",
       "      <th>0</th>\n",
       "      <td>1</td>\n",
       "      <td>11</td>\n",
       "      <td>A</td>\n",
       "      <td>bicycle</td>\n",
       "      <td>0.000000</td>\n",
       "    </tr>\n",
       "    <tr>\n",
       "      <th>3340</th>\n",
       "      <td>1</td>\n",
       "      <td>11</td>\n",
       "      <td>B</td>\n",
       "      <td>bicycle</td>\n",
       "      <td>0.000000</td>\n",
       "    </tr>\n",
       "    <tr>\n",
       "      <th>6696</th>\n",
       "      <td>1</td>\n",
       "      <td>11</td>\n",
       "      <td>C</td>\n",
       "      <td>bicycle</td>\n",
       "      <td>0.000000</td>\n",
       "    </tr>\n",
       "    <tr>\n",
       "      <th>3229</th>\n",
       "      <td>1</td>\n",
       "      <td>11</td>\n",
       "      <td>B</td>\n",
       "      <td>dock</td>\n",
       "      <td>1.644738</td>\n",
       "    </tr>\n",
       "    <tr>\n",
       "      <th>6472</th>\n",
       "      <td>1</td>\n",
       "      <td>11</td>\n",
       "      <td>C</td>\n",
       "      <td>dock</td>\n",
       "      <td>11.707794</td>\n",
       "    </tr>\n",
       "    <tr>\n",
       "      <th>9661</th>\n",
       "      <td>1</td>\n",
       "      <td>11</td>\n",
       "      <td>D</td>\n",
       "      <td>dock</td>\n",
       "      <td>27.737416</td>\n",
       "    </tr>\n",
       "  </tbody>\n",
       "</table>\n",
       "</div>"
      ],
      "text/plain": [
       "      replication_no  id station queue_type  wait_time\n",
       "0                  1  11       A    bicycle   0.000000\n",
       "3340               1  11       B    bicycle   0.000000\n",
       "6696               1  11       C    bicycle   0.000000\n",
       "3229               1  11       B       dock   1.644738\n",
       "6472               1  11       C       dock  11.707794\n",
       "9661               1  11       D       dock  27.737416"
      ]
     },
     "execution_count": 399,
     "metadata": {},
     "output_type": "execute_result"
    }
   ],
   "source": [
    "# tourist 1 & replication 2\n",
    "data[(data[\"id\"] == 11) & (data[\"replication_no\"] == 1)]"
   ]
  },
  {
   "cell_type": "markdown",
   "metadata": {},
   "source": [
    "### Question 1:\n",
    "The average waiting time for renting or returning a bicycle at each station? If tourists should not wait more than one hour in total (both for renting bikes and returning them), is the current system satisfactory?"
   ]
  },
  {
   "cell_type": "code",
   "execution_count": 400,
   "metadata": {},
   "outputs": [
    {
     "data": {
      "text/html": [
       "<div>\n",
       "<style scoped>\n",
       "    .dataframe tbody tr th:only-of-type {\n",
       "        vertical-align: middle;\n",
       "    }\n",
       "\n",
       "    .dataframe tbody tr th {\n",
       "        vertical-align: top;\n",
       "    }\n",
       "\n",
       "    .dataframe thead th {\n",
       "        text-align: right;\n",
       "    }\n",
       "</style>\n",
       "<table border=\"1\" class=\"dataframe\">\n",
       "  <thead>\n",
       "    <tr style=\"text-align: right;\">\n",
       "      <th></th>\n",
       "      <th>id</th>\n",
       "      <th>replication_no</th>\n",
       "      <th>station</th>\n",
       "      <th>avg_wait_time_per_tourist</th>\n",
       "    </tr>\n",
       "  </thead>\n",
       "  <tbody>\n",
       "    <tr>\n",
       "      <th>0</th>\n",
       "      <td>1</td>\n",
       "      <td>2</td>\n",
       "      <td>A</td>\n",
       "      <td>0.000000</td>\n",
       "    </tr>\n",
       "    <tr>\n",
       "      <th>1</th>\n",
       "      <td>1</td>\n",
       "      <td>2</td>\n",
       "      <td>B</td>\n",
       "      <td>2.998321</td>\n",
       "    </tr>\n",
       "    <tr>\n",
       "      <th>2</th>\n",
       "      <td>1</td>\n",
       "      <td>2</td>\n",
       "      <td>C</td>\n",
       "      <td>0.000000</td>\n",
       "    </tr>\n",
       "    <tr>\n",
       "      <th>3</th>\n",
       "      <td>1</td>\n",
       "      <td>2</td>\n",
       "      <td>D</td>\n",
       "      <td>0.000000</td>\n",
       "    </tr>\n",
       "    <tr>\n",
       "      <th>4</th>\n",
       "      <td>1</td>\n",
       "      <td>3</td>\n",
       "      <td>A</td>\n",
       "      <td>0.000000</td>\n",
       "    </tr>\n",
       "  </tbody>\n",
       "</table>\n",
       "</div>"
      ],
      "text/plain": [
       "   id  replication_no station  avg_wait_time_per_tourist\n",
       "0   1               2       A                   0.000000\n",
       "1   1               2       B                   2.998321\n",
       "2   1               2       C                   0.000000\n",
       "3   1               2       D                   0.000000\n",
       "4   1               3       A                   0.000000"
      ]
     },
     "execution_count": 400,
     "metadata": {},
     "output_type": "execute_result"
    }
   ],
   "source": [
    "# Per station analysis\n",
    "per_tourist_per_station_df = compute_per_tourist_avg_per_replication_per_station(data)\n",
    "per_tourist_per_station_df.head()"
   ]
  },
  {
   "cell_type": "code",
   "execution_count": 401,
   "metadata": {},
   "outputs": [
    {
     "data": {
      "text/html": [
       "<div>\n",
       "<style scoped>\n",
       "    .dataframe tbody tr th:only-of-type {\n",
       "        vertical-align: middle;\n",
       "    }\n",
       "\n",
       "    .dataframe tbody tr th {\n",
       "        vertical-align: top;\n",
       "    }\n",
       "\n",
       "    .dataframe thead th {\n",
       "        text-align: right;\n",
       "    }\n",
       "</style>\n",
       "<table border=\"1\" class=\"dataframe\">\n",
       "  <thead>\n",
       "    <tr style=\"text-align: right;\">\n",
       "      <th></th>\n",
       "      <th>id</th>\n",
       "      <th>replication_no</th>\n",
       "      <th>total_wait_time</th>\n",
       "    </tr>\n",
       "  </thead>\n",
       "  <tbody>\n",
       "    <tr>\n",
       "      <th>0</th>\n",
       "      <td>1</td>\n",
       "      <td>2</td>\n",
       "      <td>5.996642</td>\n",
       "    </tr>\n",
       "    <tr>\n",
       "      <th>1</th>\n",
       "      <td>1</td>\n",
       "      <td>3</td>\n",
       "      <td>0.000000</td>\n",
       "    </tr>\n",
       "    <tr>\n",
       "      <th>2</th>\n",
       "      <td>1</td>\n",
       "      <td>4</td>\n",
       "      <td>0.000000</td>\n",
       "    </tr>\n",
       "    <tr>\n",
       "      <th>3</th>\n",
       "      <td>1</td>\n",
       "      <td>5</td>\n",
       "      <td>9.925591</td>\n",
       "    </tr>\n",
       "    <tr>\n",
       "      <th>4</th>\n",
       "      <td>1</td>\n",
       "      <td>6</td>\n",
       "      <td>2.441270</td>\n",
       "    </tr>\n",
       "    <tr>\n",
       "      <th>...</th>\n",
       "      <td>...</td>\n",
       "      <td>...</td>\n",
       "      <td>...</td>\n",
       "    </tr>\n",
       "    <tr>\n",
       "      <th>4603</th>\n",
       "      <td>823</td>\n",
       "      <td>6</td>\n",
       "      <td>0.000000</td>\n",
       "    </tr>\n",
       "    <tr>\n",
       "      <th>4604</th>\n",
       "      <td>824</td>\n",
       "      <td>6</td>\n",
       "      <td>0.000000</td>\n",
       "    </tr>\n",
       "    <tr>\n",
       "      <th>4605</th>\n",
       "      <td>825</td>\n",
       "      <td>6</td>\n",
       "      <td>0.000000</td>\n",
       "    </tr>\n",
       "    <tr>\n",
       "      <th>4606</th>\n",
       "      <td>826</td>\n",
       "      <td>6</td>\n",
       "      <td>0.000000</td>\n",
       "    </tr>\n",
       "    <tr>\n",
       "      <th>4607</th>\n",
       "      <td>827</td>\n",
       "      <td>6</td>\n",
       "      <td>0.000000</td>\n",
       "    </tr>\n",
       "  </tbody>\n",
       "</table>\n",
       "<p>4608 rows × 3 columns</p>\n",
       "</div>"
      ],
      "text/plain": [
       "       id  replication_no  total_wait_time\n",
       "0       1               2         5.996642\n",
       "1       1               3         0.000000\n",
       "2       1               4         0.000000\n",
       "3       1               5         9.925591\n",
       "4       1               6         2.441270\n",
       "...   ...             ...              ...\n",
       "4603  823               6         0.000000\n",
       "4604  824               6         0.000000\n",
       "4605  825               6         0.000000\n",
       "4606  826               6         0.000000\n",
       "4607  827               6         0.000000\n",
       "\n",
       "[4608 rows x 3 columns]"
      ]
     },
     "execution_count": 401,
     "metadata": {},
     "output_type": "execute_result"
    }
   ],
   "source": [
    "# Any tourist should not wait more than 1 hour in total (both for renting bikes and returning them)\n",
    "\n",
    "per_tourist_total_wait_time_df = compute_per_tourist_total_wait_time(data)\n",
    "per_tourist_total_wait_time_df"
   ]
  },
  {
   "cell_type": "code",
   "execution_count": 402,
   "metadata": {},
   "outputs": [
    {
     "data": {
      "image/png": "[encoded data removed]",
      "text/plain": [
       "<Figure size 1400x350 with 3 Axes>"
      ]
     },
     "metadata": {},
     "output_type": "display_data"
    },
    {
     "name": "stdout",
     "output_type": "stream",
     "text": [
      "+++--- Conclusion ---+++\n",
      "Yes, there are tourists waiting more than 1 hour in total (both for renting bikes and returning them).\n",
      "*** So, System is not satisfactory. ***\n"
     ]
    }
   ],
   "source": [
    "# Let's take few random replications and plot the histogram of tourist total wait time\n",
    "# random 4 replications\n",
    "random_replications = per_tourist_total_wait_time_df[\"replication_no\"].sample(4).values\n",
    "sample_df = per_tourist_total_wait_time_df[per_tourist_total_wait_time_df[\"replication_no\"].isin(random_replications)]\n",
    "\n",
    "def hist_with_vline(data, color=None, **kwargs):\n",
    "    ax = plt.gca()\n",
    "    sns.histplot(data[\"total_wait_time\"], bins=20, kde=True, ax=ax, color=color)\n",
    "    ax.axvline(60, color='red', linestyle='--', label='1 hour')\n",
    "\n",
    "# Create and map\n",
    "g = sns.FacetGrid(sample_df, col=\"replication_no\", col_wrap=4, height=3.5, sharex=True, sharey=True)\n",
    "g.map_dataframe(hist_with_vline)\n",
    "\n",
    "# Add a 1 hour legend manually\n",
    "handles, labels = g.axes[0].get_legend_handles_labels()\n",
    "g.fig.legend(handles, labels, loc='upper right', ncol=3, bbox_to_anchor=(1, 1.05))\n",
    "\n",
    "# Titles and layout\n",
    "g.set_titles(\"Replication {col_name}\")\n",
    "g.fig.subplots_adjust(top=0.85)\n",
    "g.fig.suptitle(\"Histogram of Tourist Total Wait Time (per replication)\")\n",
    "\n",
    "plt.show()\n",
    "\n",
    "is_any_tourist_waiting_more_than_1_hour = sample_df[\"total_wait_time\"].gt(60).any()\n",
    "is_any_tourist_waiting_more_than_1_hour\n",
    "\n",
    "print(\"+++--- Conclusion ---+++\")\n",
    "if is_any_tourist_waiting_more_than_1_hour:\n",
    "    print(\"Yes, there are tourists waiting more than 1 hour in total (both for renting bikes and returning them).\")\n",
    "    print(\"*** So, System is not satisfactory. ***\")\n",
    "else:\n",
    "    print(\"No, there are no tourists waiting more than 1 hour in total (both for renting bikes and returning them).\")\n",
    "    print(\"*** So, System is satisfactory. ***\")\n"
   ]
  },
  {
   "cell_type": "code",
   "execution_count": 403,
   "metadata": {},
   "outputs": [
    {
     "name": "stdout",
     "output_type": "stream",
     "text": [
      "----------------------------------------------------------------------------------------------------\n",
      "Station A Per Replication Stats:\n",
      "----------------------------------------------------------------------------------------------------\n",
      "                total_arrival_count  mean_tourists_waiting  avg_wait_time_per_tourist\n",
      "replication_no                                                                       \n",
      "1                               690               0.000000                   0.000000\n",
      "2                               688               0.475291                  11.749906\n",
      "3                               647               0.340031                  27.124262\n",
      "4                               657               0.071537                   1.012035\n",
      "5                               674               0.151335                   4.464750\n",
      "6                               723               0.114799                   1.299829\n",
      "----------------------------------------------------------------------------------------------------\n",
      "Station B Per Replication Stats:\n",
      "----------------------------------------------------------------------------------------------------\n",
      "                total_arrival_count  mean_tourists_waiting  avg_wait_time_per_tourist\n",
      "replication_no                                                                       \n",
      "1                               679               0.506627                  20.445382\n",
      "2                               639               0.389671                  13.869424\n",
      "3                               659               0.062215                   0.243998\n",
      "4                               671               0.026826                   0.130622\n",
      "5                               693               0.001443                   0.001117\n",
      "----------------------------------------------------------------------------------------------------\n",
      "Station C Per Replication Stats:\n",
      "----------------------------------------------------------------------------------------------------\n",
      "                total_arrival_count  mean_tourists_waiting  avg_wait_time_per_tourist\n",
      "replication_no                                                                       \n",
      "1                               671               0.384501                  10.049582\n",
      "2                               643               0.236392                   2.296725\n",
      "3                               608               0.692434                  52.937225\n",
      "4                               619               0.655897                  67.333739\n",
      "5                               683               0.688141                  41.960655\n",
      "----------------------------------------------------------------------------------------------------\n",
      "Station D Per Replication Stats:\n",
      "----------------------------------------------------------------------------------------------------\n",
      "                total_arrival_count  mean_tourists_waiting  avg_wait_time_per_tourist\n",
      "replication_no                                                                       \n",
      "1                               684               0.217836                   5.714361\n",
      "2                               671               0.143070                   0.550023\n",
      "3                               622               0.088424                   1.349209\n",
      "4                               627               0.044657                   0.162109\n",
      "5                               666               0.217718                   1.689384\n"
     ]
    }
   ],
   "source": [
    "# The average waiting time for renting or returning a bicycle at each station?\n",
    "\n",
    "# Station A\n",
    "station_a_df = per_tourist_per_station_df[per_tourist_per_station_df[\"station\"] == \"A\"]\n",
    "station_a_per_replication_stats = compute_per_replication_stats(station_a_df)\n",
    "print(\"-\" * 100)\n",
    "print(\"Station A Per Replication Stats:\")\n",
    "print(\"-\" * 100)\n",
    "print(station_a_per_replication_stats)\n",
    "# Station B\n",
    "station_b_df = per_tourist_per_station_df[per_tourist_per_station_df[\"station\"] == \"B\"]\n",
    "station_b_per_replication_stats = compute_per_replication_stats(station_b_df)\n",
    "print(\"-\" * 100)\n",
    "print(\"Station B Per Replication Stats:\")\n",
    "print(\"-\" * 100)\n",
    "print(station_b_per_replication_stats.head())\n",
    "# Station C\n",
    "station_c_df = per_tourist_per_station_df[per_tourist_per_station_df[\"station\"] == \"C\"]\n",
    "station_c_per_replication_stats = compute_per_replication_stats(station_c_df)\n",
    "print(\"-\" * 100)\n",
    "print(\"Station C Per Replication Stats:\")\n",
    "print(\"-\" * 100)\n",
    "print(station_c_per_replication_stats.head())\n",
    "# Station D\n",
    "station_d_df = per_tourist_per_station_df[per_tourist_per_station_df[\"station\"] == \"D\"]\n",
    "station_d_per_replication_stats = compute_per_replication_stats(station_d_df)\n",
    "print(\"-\" * 100)\n",
    "print(\"Station D Per Replication Stats:\")\n",
    "print(\"-\" * 100)\n",
    "print(station_d_per_replication_stats.head())\n"
   ]
  },
  {
   "cell_type": "code",
   "execution_count": 404,
   "metadata": {},
   "outputs": [
    {
     "name": "stdout",
     "output_type": "stream",
     "text": [
      "----------------------------------------------------------------------------------------------------\n",
      "Average Waiting Time per Station:\n",
      "----------------------------------------------------------------------------------------------------\n",
      "Station A:\n",
      "    Average Waiting Time: 7.608463782154982 mins\n",
      "    Confidence Interval: (0, 18.606041930497444)\n",
      "Station B:\n",
      "    Average Waiting Time: 5.78190700695977 mins\n",
      "    Confidence Interval: (0, 15.28342661868656)\n",
      "Station C:\n",
      "    Average Waiting Time: 29.1734761256734 mins\n",
      "    Confidence Interval: (0, 59.21305334621255)\n",
      "Station D: 8.222490647390268 mins\n",
      "    Confidence Interval: (0, 24.625989221234384)\n"
     ]
    }
   ],
   "source": [
    "# Average waiting time per station\n",
    "# Station A\n",
    "station_a_avg_wait_time = station_a_per_replication_stats[\"avg_wait_time_per_tourist\"].mean()\n",
    "confidence_interval_a, mean_x_a, std_s_a, t_crit_a, margin_a = compute_confidence_interval(station_a_per_replication_stats[\"avg_wait_time_per_tourist\"], print_stats=False)\n",
    "# Station B\n",
    "station_b_avg_wait_time = station_b_per_replication_stats[\"avg_wait_time_per_tourist\"].mean()\n",
    "confidence_interval_b, mean_x_b, std_s_b, t_crit_b, margin_b = compute_confidence_interval(station_b_per_replication_stats[\"avg_wait_time_per_tourist\"], print_stats=False)\n",
    "# Station C\n",
    "station_c_avg_wait_time = station_c_per_replication_stats[\"avg_wait_time_per_tourist\"].mean()\n",
    "confidence_interval_c, mean_x_c, std_s_c, t_crit_c, margin_c = compute_confidence_interval(station_c_per_replication_stats[\"avg_wait_time_per_tourist\"], print_stats=False)\n",
    "# Station D\n",
    "station_d_avg_wait_time = station_d_per_replication_stats[\"avg_wait_time_per_tourist\"].mean()\n",
    "confidence_interval_d, mean_x_d, std_s_d, t_crit_d, margin_d = compute_confidence_interval(station_d_per_replication_stats[\"avg_wait_time_per_tourist\"], print_stats=False)\n",
    "\n",
    "print(\"-\" * 100)\n",
    "print(\"Average Waiting Time per Station:\")\n",
    "print(\"-\" * 100)\n",
    "print(f\"Station A:\")\n",
    "print(f\"    Average Waiting Time: {station_a_avg_wait_time} mins\")\n",
    "print(f\"    Confidence Interval: {confidence_interval_a}\")\n",
    "print(f\"Station B:\")\n",
    "print(f\"    Average Waiting Time: {station_b_avg_wait_time} mins\")\n",
    "print(f\"    Confidence Interval: {confidence_interval_b}\")\n",
    "print(f\"Station C:\")\n",
    "print(f\"    Average Waiting Time: {station_c_avg_wait_time} mins\")\n",
    "print(f\"    Confidence Interval: {confidence_interval_c}\")\n",
    "print(f\"Station D: {station_d_avg_wait_time} mins\")\n",
    "print(f\"    Confidence Interval: {confidence_interval_d}\")"
   ]
  },
  {
   "cell_type": "markdown",
   "metadata": {},
   "source": [
    "### Question 2:\n",
    "* Keep **80%** tourists feel **HAPPY!!** (i.e. below 15 mins)\n",
    "* at the same tome, minimize their cost of building docks and buying the bicycles at the stations"
   ]
  },
  {
   "cell_type": "code",
   "execution_count": 405,
   "metadata": {},
   "outputs": [
    {
     "data": {
      "text/html": [
       "<div>\n",
       "<style scoped>\n",
       "    .dataframe tbody tr th:only-of-type {\n",
       "        vertical-align: middle;\n",
       "    }\n",
       "\n",
       "    .dataframe tbody tr th {\n",
       "        vertical-align: top;\n",
       "    }\n",
       "\n",
       "    .dataframe thead th {\n",
       "        text-align: right;\n",
       "    }\n",
       "</style>\n",
       "<table border=\"1\" class=\"dataframe\">\n",
       "  <thead>\n",
       "    <tr style=\"text-align: right;\">\n",
       "      <th></th>\n",
       "      <th>id</th>\n",
       "      <th>replication_no</th>\n",
       "      <th>avg_wait_time_per_tourist</th>\n",
       "    </tr>\n",
       "  </thead>\n",
       "  <tbody>\n",
       "    <tr>\n",
       "      <th>0</th>\n",
       "      <td>1</td>\n",
       "      <td>2</td>\n",
       "      <td>0.749580</td>\n",
       "    </tr>\n",
       "    <tr>\n",
       "      <th>1</th>\n",
       "      <td>1</td>\n",
       "      <td>3</td>\n",
       "      <td>0.000000</td>\n",
       "    </tr>\n",
       "    <tr>\n",
       "      <th>2</th>\n",
       "      <td>1</td>\n",
       "      <td>4</td>\n",
       "      <td>0.000000</td>\n",
       "    </tr>\n",
       "    <tr>\n",
       "      <th>3</th>\n",
       "      <td>1</td>\n",
       "      <td>5</td>\n",
       "      <td>1.240699</td>\n",
       "    </tr>\n",
       "    <tr>\n",
       "      <th>4</th>\n",
       "      <td>1</td>\n",
       "      <td>6</td>\n",
       "      <td>0.305159</td>\n",
       "    </tr>\n",
       "  </tbody>\n",
       "</table>\n",
       "</div>"
      ],
      "text/plain": [
       "   id  replication_no  avg_wait_time_per_tourist\n",
       "0   1               2                   0.749580\n",
       "1   1               3                   0.000000\n",
       "2   1               4                   0.000000\n",
       "3   1               5                   1.240699\n",
       "4   1               6                   0.305159"
      ]
     },
     "execution_count": 405,
     "metadata": {},
     "output_type": "execute_result"
    }
   ],
   "source": [
    "# So, let's analyze entier model (i.e. all stations together)\n",
    "\n",
    "# get aggregate data per tourist per replication & get average waiting time per tourist per replication\n",
    "per_tourist_df = compute_per_tourist_avg_per_replication(data)\n",
    "per_tourist_df.head()"
   ]
  },
  {
   "cell_type": "code",
   "execution_count": 406,
   "metadata": {},
   "outputs": [
    {
     "data": {
      "text/html": [
       "<div>\n",
       "<style scoped>\n",
       "    .dataframe tbody tr th:only-of-type {\n",
       "        vertical-align: middle;\n",
       "    }\n",
       "\n",
       "    .dataframe tbody tr th {\n",
       "        vertical-align: top;\n",
       "    }\n",
       "\n",
       "    .dataframe thead th {\n",
       "        text-align: right;\n",
       "    }\n",
       "</style>\n",
       "<table border=\"1\" class=\"dataframe\">\n",
       "  <thead>\n",
       "    <tr style=\"text-align: right;\">\n",
       "      <th></th>\n",
       "      <th>total_arrival_count</th>\n",
       "      <th>mean_tourists_waiting</th>\n",
       "      <th>avg_wait_time_per_tourist</th>\n",
       "    </tr>\n",
       "    <tr>\n",
       "      <th>replication_no</th>\n",
       "      <th></th>\n",
       "      <th></th>\n",
       "      <th></th>\n",
       "    </tr>\n",
       "  </thead>\n",
       "  <tbody>\n",
       "    <tr>\n",
       "      <th>1</th>\n",
       "      <td>771</td>\n",
       "      <td>0.758755</td>\n",
       "      <td>9.020781</td>\n",
       "    </tr>\n",
       "    <tr>\n",
       "      <th>2</th>\n",
       "      <td>756</td>\n",
       "      <td>0.740741</td>\n",
       "      <td>7.136661</td>\n",
       "    </tr>\n",
       "    <tr>\n",
       "      <th>3</th>\n",
       "      <td>742</td>\n",
       "      <td>0.784367</td>\n",
       "      <td>18.892250</td>\n",
       "    </tr>\n",
       "    <tr>\n",
       "      <th>4</th>\n",
       "      <td>745</td>\n",
       "      <td>0.608054</td>\n",
       "      <td>15.988182</td>\n",
       "    </tr>\n",
       "    <tr>\n",
       "      <th>5</th>\n",
       "      <td>767</td>\n",
       "      <td>0.769231</td>\n",
       "      <td>12.135152</td>\n",
       "    </tr>\n",
       "  </tbody>\n",
       "</table>\n",
       "</div>"
      ],
      "text/plain": [
       "                total_arrival_count  mean_tourists_waiting  avg_wait_time_per_tourist\n",
       "replication_no                                                                       \n",
       "1                               771               0.758755                   9.020781\n",
       "2                               756               0.740741                   7.136661\n",
       "3                               742               0.784367                  18.892250\n",
       "4                               745               0.608054                  15.988182\n",
       "5                               767               0.769231                  12.135152"
      ]
     },
     "execution_count": 406,
     "metadata": {},
     "output_type": "execute_result"
    }
   ],
   "source": [
    "# Get the all stats per replication\n",
    "per_replication_stats = compute_per_replication_stats(per_tourist_df)\n",
    "per_replication_stats.head()"
   ]
  },
  {
   "cell_type": "code",
   "execution_count": 407,
   "metadata": {},
   "outputs": [
    {
     "data": {
      "text/html": [
       "<div>\n",
       "<style scoped>\n",
       "    .dataframe tbody tr th:only-of-type {\n",
       "        vertical-align: middle;\n",
       "    }\n",
       "\n",
       "    .dataframe tbody tr th {\n",
       "        vertical-align: top;\n",
       "    }\n",
       "\n",
       "    .dataframe thead th {\n",
       "        text-align: right;\n",
       "    }\n",
       "</style>\n",
       "<table border=\"1\" class=\"dataframe\">\n",
       "  <thead>\n",
       "    <tr style=\"text-align: right;\">\n",
       "      <th></th>\n",
       "      <th>id</th>\n",
       "      <th>replication_no</th>\n",
       "      <th>avg_wait_time_per_tourist</th>\n",
       "    </tr>\n",
       "  </thead>\n",
       "  <tbody>\n",
       "    <tr>\n",
       "      <th>50</th>\n",
       "      <td>11</td>\n",
       "      <td>1</td>\n",
       "      <td>6.848325</td>\n",
       "    </tr>\n",
       "  </tbody>\n",
       "</table>\n",
       "</div>"
      ],
      "text/plain": [
       "    id  replication_no  avg_wait_time_per_tourist\n",
       "50  11               1                   6.848325"
      ]
     },
     "execution_count": 407,
     "metadata": {},
     "output_type": "execute_result"
    }
   ],
   "source": [
    "# tourist 11 & replication 1\n",
    "per_tourist_df[(per_tourist_df[\"id\"] == 11) & (per_tourist_df[\"replication_no\"] == 1)]"
   ]
  },
  {
   "cell_type": "code",
   "execution_count": 408,
   "metadata": {},
   "outputs": [],
   "source": [
    "# Maximum & Minimum waiting time per tourist per replication\n",
    "max_wait_time_row = per_tourist_df[per_tourist_df[\"avg_wait_time_per_tourist\"] == per_tourist_df[\"avg_wait_time_per_tourist\"].max()]\n",
    "min_wait_time_row = per_tourist_df[per_tourist_df[\"avg_wait_time_per_tourist\"] == per_tourist_df[\"avg_wait_time_per_tourist\"].min()]"
   ]
  },
  {
   "cell_type": "code",
   "execution_count": 409,
   "metadata": {},
   "outputs": [
    {
     "data": {
      "image/png": "[encoded data removed]",
      "text/plain": [
       "<Figure size 1500x600 with 1 Axes>"
      ]
     },
     "metadata": {},
     "output_type": "display_data"
    },
    {
     "name": "stdout",
     "output_type": "stream",
     "text": [
      "+++--- Quick Summary ---+++\n",
      "Best Case Scenario:\n",
      "    Minimum avg waiting time: 0.0 mins at Replication 3\n",
      "Worst Case Scenario:\n",
      "    Maximum avg waiting time: 101.4775655 mins at Replication 3\n",
      "+++--- End of Quick Summary ---+++\n"
     ]
    }
   ],
   "source": [
    "# Boxplot of tourists waiting time per replication\n",
    "plt.figure(figsize=(15, 6))\n",
    "sns.boxplot(x=\"replication_no\", y=\"avg_wait_time_per_tourist\", data=per_tourist_df)\n",
    "plt.tight_layout()\n",
    "plt.show()\n",
    "\n",
    "print(\"+++--- Quick Summary ---+++\")\n",
    "print(f\"Best Case Scenario:\")\n",
    "print(f\"    Minimum avg waiting time: {min_wait_time_row['avg_wait_time_per_tourist'].values[0]} mins at Replication {min_wait_time_row['replication_no'].values[0]}\")\n",
    "print(f\"Worst Case Scenario:\")\n",
    "print(f\"    Maximum avg waiting time: {max_wait_time_row['avg_wait_time_per_tourist'].values[0]} mins at Replication {max_wait_time_row['replication_no'].values[0]}\")\n",
    "print(\"+++--- End of Quick Summary ---+++\")\n"
   ]
  },
  {
   "cell_type": "code",
   "execution_count": 410,
   "metadata": {},
   "outputs": [
    {
     "data": {
      "image/png": "[encoded data removed]",
      "text/plain": [
       "<Figure size 1400x700 with 6 Axes>"
      ]
     },
     "metadata": {},
     "output_type": "display_data"
    }
   ],
   "source": [
    "# Custom plot function with 15min vertical lines\n",
    "def hist_with_vlines(data, color=None, **kwargs):\n",
    "    ax = plt.gca()\n",
    "    sns.histplot(data[\"avg_wait_time_per_tourist\"], bins=20, kde=True, ax=ax, color=color)\n",
    "    ax.axvline(15, color='red', linestyle='--', label='15 min')\n",
    "    ax.legend(loc='upper right', fontsize='small')\n",
    "\n",
    "# Create the FacetGrid\n",
    "g = sns.FacetGrid(per_tourist_df, col=\"replication_no\", col_wrap=4, height=3.5, sharex=True, sharey=True)\n",
    "\n",
    "# Apply the custom plotting function to each facet\n",
    "g.map_dataframe(hist_with_vlines)\n",
    "\n",
    "# Add a 1 hour legend manually\n",
    "handles, labels = g.axes[0].get_legend_handles_labels()\n",
    "g.fig.legend(handles, labels, loc='upper right', ncol=3, bbox_to_anchor=(1, 1.05))\n",
    "\n",
    "# Titles and layout\n",
    "g.set_titles(\"Replication {col_name}\")\n",
    "g.fig.subplots_adjust(top=0.99)\n",
    "g.fig.suptitle(\"Histograms of Tourist Wait Time per Replication\")\n",
    "\n",
    "plt.show()"
   ]
  },
  {
   "cell_type": "code",
   "execution_count": 411,
   "metadata": {},
   "outputs": [
    {
     "data": {
      "text/plain": [
       "replication_no\n",
       "1     9.020781\n",
       "2     7.136661\n",
       "3    18.892250\n",
       "4    15.988182\n",
       "5    12.135152\n",
       "6    10.083035\n",
       "Name: avg_wait_time_per_tourist, dtype: float64"
      ]
     },
     "execution_count": 411,
     "metadata": {},
     "output_type": "execute_result"
    }
   ],
   "source": [
    "# Get the mean waiting time per replication\n",
    "replication_means = per_replication_stats[\"avg_wait_time_per_tourist\"]\n",
    "replication_means"
   ]
  },
  {
   "cell_type": "markdown",
   "metadata": {},
   "source": [
    "### Point and interval estimates\n",
    "\n",
    "#### 1. Point Estimate Calculations"
   ]
  },
  {
   "cell_type": "code",
   "execution_count": 412,
   "metadata": {},
   "outputs": [
    {
     "name": "stdout",
     "output_type": "stream",
     "text": [
      "Mean Waiting Time: 12.209343440345956 mins\n"
     ]
    }
   ],
   "source": [
    "# Mean (Point Estimate)\n",
    "wait_time_mean = replication_means.mean()\n",
    "wait_time_mean\n",
    "print(f\"Mean Waiting Time: {wait_time_mean} mins\")"
   ]
  },
  {
   "cell_type": "code",
   "execution_count": 413,
   "metadata": {},
   "outputs": [
    {
     "name": "stdout",
     "output_type": "stream",
     "text": [
      "Variance of Waiting Time: 19.873315410942084 mins^2\n"
     ]
    }
   ],
   "source": [
    "# Variance (Point Estimate)\n",
    "wait_time_variance = replication_means.var()\n",
    "wait_time_variance\n",
    "print(f\"Variance of Waiting Time: {wait_time_variance} mins^2\")"
   ]
  },
  {
   "cell_type": "markdown",
   "metadata": {},
   "source": [
    "#### 2. Confidence Interval"
   ]
  },
  {
   "cell_type": "code",
   "execution_count": 414,
   "metadata": {},
   "outputs": [
    {
     "name": "stdout",
     "output_type": "stream",
     "text": [
      "Sample Mean: 12.209343440345956\n",
      "Sample Std Dev: 4.457949686901152\n",
      "t-critical (95%): 2.570581835636314\n",
      "Margin of Error: 4.678331282297213\n",
      "Confidence Interval: (7.531012158048743, 16.88767472264317)\n"
     ]
    }
   ],
   "source": [
    "# 95% CI\n",
    "alpha = 0.05\n",
    "confidence_level = 1 - alpha\n",
    "# Calculate confidence interval with 95% confidence level\n",
    "confidence_interval, mean_x, std_s, t_crit, margin = compute_confidence_interval(replication_means, confidence_level)"
   ]
  },
  {
   "cell_type": "markdown",
   "metadata": {},
   "source": [
    "### Hypothesis Testing\n",
    "\n",
    "Both directions of hypothesis testing — **proving ≤ 15 mins** and **ensuring it’s not > 15 mins**:\n",
    "\n",
    "### 💡 TL;DR\n",
    "- We **cannot claim** that our system is **statistically better than 15 mins**.\n",
    "- But we **can safely say** it’s **not proven to be worse** than 15 mins either."
   ]
  },
  {
   "cell_type": "code",
   "execution_count": 415,
   "metadata": {},
   "outputs": [
    {
     "name": "stdout",
     "output_type": "stream",
     "text": [
      "+++--- Hypothesis Test Results ---+++\n",
      "Sample Mean: 12.209343440345956\n",
      "Sample Std Dev: 4.457949686901152\n",
      "95% CI: (7.531012158048743, 16.88767472264317)\n",
      "Margin of Error: 4.678331282297213\n",
      "t-statistic: -1.533369620251334\n",
      "Left-tailed test H0: μ ≥ 15 → H1: μ < 15\n",
      "    t-critical: -2.0150483733330233\n",
      "    Reject H0?: False\n",
      "    Conclusion: ❌ Cannot conclude with 95% confidence that the average waiting time is less than 15 minutes.\n",
      "Right-tailed test H0: μ ≤ 15 → H1: μ > 15\n",
      "    t-critical: 2.0150483733330233\n",
      "    Reject H0?: False\n",
      "    Conclusion: ✅ There is no statistical evidence that the average waiting time exceeds 15 minutes.\n",
      "+++--- End of Hypothesis Test Results ---+++\n"
     ]
    }
   ],
   "source": [
    "# Hypothesis Test:\n",
    "# H0: mu <= 15 (average wait time is acceptable)\n",
    "# H1: mu > 15 (average wait time is too high)\n",
    "\n",
    "mu_0 = 15  # Target threshold for average waiting time\n",
    "n = len(replication_means)\n",
    "df = n - 1\n",
    "\n",
    "# Confidence interval (two-sided)\n",
    "t_critical_two_sided = t.ppf(1 - alpha/2, df)\n",
    "margin = t_critical_two_sided * (std_s / np.sqrt(n))\n",
    "confidence_interval = (mean_x - margin, mean_x + margin)\n",
    "\n",
    "# One-sided left-tailed test: H0: mu >= 15 vs H1: mu < 15 (prove system is good enough)\n",
    "t_statistic = (mean_x - mu_0) / (std_s / np.sqrt(n))\n",
    "t_critical_left = t.ppf(alpha, df)\n",
    "reject_H0_mu_gte_15 = t_statistic < t_critical_left\n",
    "\n",
    "# One-sided right-tailed test: H0: mu <= 15 vs H1: mu > 15 (prove system is NOT good enough)\n",
    "t_critical_right = t.ppf(1 - alpha, df)\n",
    "reject_H0_mu_lte_15 = t_statistic > t_critical_right\n",
    "\n",
    "# Dynamic interpretation messages\n",
    "if reject_H0_mu_gte_15:\n",
    "    conclusion_left = \"✅ There is statistically significant evidence (95% confidence) that the average waiting time is less than 15 minutes.\"\n",
    "else:\n",
    "    conclusion_left = \"❌ Cannot conclude with 95% confidence that the average waiting time is less than 15 minutes.\"\n",
    "\n",
    "if reject_H0_mu_lte_15:\n",
    "    conclusion_right = \"⚠️ There is statistically significant evidence (95% confidence) that the average waiting time exceeds 15 minutes.\"\n",
    "else:\n",
    "    conclusion_right = \"✅ There is no statistical evidence that the average waiting time exceeds 15 minutes.\"\n",
    "\n",
    "print(\"+++--- Hypothesis Test Results ---+++\")\n",
    "print(f\"Sample Mean: {mean_x}\")\n",
    "print(f\"Sample Std Dev: {std_s}\")\n",
    "print(f\"95% CI: {confidence_interval}\")\n",
    "print(f\"Margin of Error: {margin}\")\n",
    "print(f\"t-statistic: {t_statistic}\")\n",
    "print(f\"Left-tailed test H0: μ ≥ 15 → H1: μ < 15\")\n",
    "print(f\"    t-critical: {t_critical_left}\")\n",
    "print(f\"    Reject H0?: {reject_H0_mu_gte_15}\")\n",
    "print(f\"    Conclusion: {conclusion_left}\")\n",
    "print(f\"Right-tailed test H0: μ ≤ 15 → H1: μ > 15\")\n",
    "print(f\"    t-critical: {t_critical_right}\")\n",
    "print(f\"    Reject H0?: {reject_H0_mu_lte_15}\")\n",
    "print(f\"    Conclusion: {conclusion_right}\")\n",
    "print(\"+++--- End of Hypothesis Test Results ---+++\")"
   ]
  },
  {
   "cell_type": "markdown",
   "metadata": {},
   "source": [
    "So then **how many replications** you'd need to prove **μ < 15** with desired accuracy (e.g., ±1 min)?"
   ]
  },
  {
   "cell_type": "code",
   "execution_count": 416,
   "metadata": {},
   "outputs": [
    {
     "name": "stdout",
     "output_type": "stream",
     "text": [
      "+++--- Required Replications ---+++\n",
      "Desired Accuracy (±ε): 1\n",
      "Z-critical (95%): 1.959963984540054\n",
      "Sample Std Dev (S): 4.353991859867876\n",
      "Required Replications (rounded up): 73\n",
      "+++--- End of Required Replications ---+++\n",
      "** Final Conclusion: **\n",
      "    We would need at least 73 replications to prove μ < 15 with desired accuracy (±1 min).\n"
     ]
    }
   ],
   "source": [
    "# Parameters\n",
    "epsilon = 1  # desired margin of error (±1 min)\n",
    "confidence = confidence_level\n",
    "Z_alpha_2 = norm.ppf(1 - (1 - confidence)/2)  # Z for two-tailed 95% CI ~ 1.96\n",
    "\n",
    "# Using the sample standard deviation from the 50-replication run\n",
    "S = 4.353991859867876\n",
    "\n",
    "# Required sample size (replications) using normal approximation:\n",
    "# R ≥ (Z * S / ε)^2\n",
    "required_replications = (Z_alpha_2 * S / epsilon) ** 2\n",
    "\n",
    "required_replications_rounded = int(np.ceil(required_replications))\n",
    "\n",
    "print(\"+++--- Required Replications ---+++\")\n",
    "print(\"Desired Accuracy (±ε):\", epsilon)\n",
    "print(\"Z-critical (95%):\", Z_alpha_2)\n",
    "print(\"Sample Std Dev (S):\", S)\n",
    "print(\"Required Replications (rounded up):\", required_replications_rounded)\n",
    "print(\"+++--- End of Required Replications ---+++\")\n",
    "print(\"** Final Conclusion: **\")\n",
    "print(f\"    We would need at least {required_replications_rounded} replications to prove μ < 15 with desired accuracy (±1 min).\")"
   ]
  },
  {
   "cell_type": "markdown",
   "metadata": {},
   "source": [
    "#### Overal Final Output Data Analysis Stats"
   ]
  },
  {
   "cell_type": "code",
   "execution_count": 417,
   "metadata": {},
   "outputs": [
    {
     "data": {
      "image/png": "[encoded data removed]",
      "text/plain": [
       "<Figure size 1200x500 with 2 Axes>"
      ]
     },
     "metadata": {},
     "output_type": "display_data"
    },
    {
     "name": "stdout",
     "output_type": "stream",
     "text": [
      "+++--- Output Data Analysis ---+++\n",
      "--------------------------------\n",
      "Summary Average Wait Time of the our model:\n",
      "--------------------------------\n",
      "Maximum Waiting Time: 101.4775655 mins (1.69 hrs) at Replication 3\n",
      "Point Estimates:\n",
      "    Sample Std Dev: 4.457949686901152\n",
      "    Sample Mean: 12.209343440345956\n",
      "Interval Estimates:\n",
      "    t-critical (95%): 2.570581835636314\n",
      "    Margin of Error: 4.678331282297213\n",
      "    Confidence Interval: (7.531012158048743, 16.88767472264317)\n",
      "Customer Satisfaction:\n",
      "    % Happy Tourists (<15 mins): 66.43%\n",
      "    % Unhappy Tourists (>60 mins): 0.41%\n",
      "--------------------------------\n",
      "Hypothesis Test Results:\n",
      "--------------------------------\n",
      "    t-statistic: -1.533369620251334\n",
      "    Left-tailed test H0: μ ≥ 15 → H1: μ < 15\n",
      "        t-critical: -2.0150483733330233\n",
      "        Reject H0?: False\n",
      "        Conclusion: ❌ Cannot conclude with 95% confidence that the average waiting time is less than 15 minutes.\n",
      "    Right-tailed test H0: μ ≤ 15 → H1: μ > 15\n",
      "        t-critical: 2.0150483733330233\n",
      "        Reject H0?: False\n",
      "        Conclusion: ✅ There is no statistical evidence that the average waiting time exceeds 15 minutes.\n",
      "--------------------------------\n",
      "Cost Analysis: *** Additional Cost: $12,600 ***\n",
      "--------------------------------\n",
      "    Total Bicycles: 80\n",
      "    Total Docks: 80\n",
      "    Current System Cost: $1,800\n",
      "    Our System Cost: $14,400\n",
      "--------------------------------\n",
      "+++--- End of Output Data Analysis ---+++\n",
      "\n"
     ]
    }
   ],
   "source": [
    "# happy tourists\n",
    "happy_pct = per_tourist_df[\"avg_wait_time_per_tourist\"].lt(15).mean() * 100\n",
    "over_60_pct = per_tourist_df[\"avg_wait_time_per_tourist\"].gt(60).mean() * 100\n",
    "\n",
    "plot_wait_distributions(per_tourist_df)\n",
    "\n",
    "# 80% happy tourists\n",
    "required_happy_pct = 80\n",
    "\n",
    "# Costs (per unit)\n",
    "bicycle_cost = 80\n",
    "dock_cost = 100\n",
    "\n",
    "# Current System\n",
    "current_system_bicycle_count = 10\n",
    "current_system_dock_count = 10\n",
    "current_system_cost = current_system_bicycle_count * bicycle_cost + current_system_dock_count * dock_cost\n",
    "\n",
    "# Our System\n",
    "our_system_bicycle_count = bicycle_count\n",
    "our_system_dock_count = dock_count\n",
    "our_system_cost = our_system_bicycle_count * bicycle_cost + our_system_dock_count * dock_cost\n",
    "\n",
    "# Additional Cost\n",
    "additional_cost = (our_system_bicycle_count - current_system_bicycle_count) * bicycle_cost + (our_system_dock_count - current_system_dock_count) * dock_cost\n",
    "total_cost = current_system_cost + additional_cost\n",
    "\n",
    "print(\"+++--- Output Data Analysis ---+++\")\n",
    "print(\"--------------------------------\")\n",
    "print(\"Summary Average Wait Time of the our model:\")\n",
    "print(\"--------------------------------\")\n",
    "print(f\"Maximum Waiting Time: {max_wait_time_row['avg_wait_time_per_tourist'].values[0]} mins ({round(max_wait_time_row['avg_wait_time_per_tourist'].values[0] / 60, 2)} hrs) at Replication {max_wait_time_row['replication_no'].values[0]}\")\n",
    "print(\"Point Estimates:\")\n",
    "print(f\"    Sample Std Dev: {std_s}\")\n",
    "print(f\"    Sample Mean: {mean_x}\")\n",
    "print(\"Interval Estimates:\")\n",
    "print(f\"    t-critical (95%): {t_crit}\")\n",
    "print(f\"    Margin of Error: {margin}\")\n",
    "print(f\"    Confidence Interval: {confidence_interval}\")\n",
    "print(\"Customer Satisfaction:\")\n",
    "print(f\"    % Happy Tourists (<15 mins): {round(happy_pct, 2)}%\")\n",
    "print(f\"    % Unhappy Tourists (>60 mins): {round(over_60_pct, 2)}%\")\n",
    "print(\"--------------------------------\")\n",
    "print(\"Hypothesis Test Results:\")\n",
    "print(\"--------------------------------\")\n",
    "print(f\"    t-statistic: {t_statistic}\")\n",
    "print(f\"    Left-tailed test H0: μ ≥ 15 → H1: μ < 15\")\n",
    "print(f\"        t-critical: {t_critical_left}\")\n",
    "print(f\"        Reject H0?: {reject_H0_mu_gte_15}\")\n",
    "print(f\"        Conclusion: {conclusion_left}\")\n",
    "print(f\"    Right-tailed test H0: μ ≤ 15 → H1: μ > 15\")\n",
    "print(f\"        t-critical: {t_critical_right}\")\n",
    "print(f\"        Reject H0?: {reject_H0_mu_lte_15}\")\n",
    "print(f\"        Conclusion: {conclusion_right}\")\n",
    "print(\"--------------------------------\")\n",
    "print(f\"Cost Analysis: *** Additional Cost: ${additional_cost:,} ***\")\n",
    "print(\"--------------------------------\")\n",
    "print(f\"    Total Bicycles: {bicycle_count}\")\n",
    "print(f\"    Total Docks: {dock_count}\")\n",
    "print(f\"    Current System Cost: ${current_system_cost:,}\")\n",
    "print(f\"    Our System Cost: ${our_system_cost:,}\")\n",
    "print(\"--------------------------------\")\n",
    "print(\"+++--- End of Output Data Analysis ---+++\")\n",
    "print(\"\")"
   ]
  },
  {
   "cell_type": "markdown",
   "metadata": {},
   "source": [
    "#### Final Result & Conclusion"
   ]
  },
  {
   "cell_type": "code",
   "execution_count": 418,
   "metadata": {},
   "outputs": [
    {
     "name": "stdout",
     "output_type": "stream",
     "text": [
      "*** Result ***\n",
      "Total Cost of $14,400 with 80 bicycles and 80 docks\n",
      "Current System Analysis:\n",
      "    we have added 70 bicycles to the system, resulting in $5600 of additional cost\n",
      "    we have added 70 docks to the system, resulting in $7000 of additional cost\n",
      "Achieved Happy Percentage: 66.43%\n",
      "    So, we need to reduce additional 13.57% of tourists waiting time to achieve 80% happy tourists\n",
      "Max Waiting Time: 101.4775655 mins (1.69 hrs) at Replication 3\n",
      "    Current System is NOT satisfactory!\n",
      "    So, we need to reduce the max waiting time by 41.48 mins\n",
      "*** End of Result ***\n"
     ]
    }
   ],
   "source": [
    "print(\"*** Result ***\")\n",
    "print(f\"Total Cost of ${total_cost:,} with {bicycle_count} bicycles and {dock_count} docks\")\n",
    "print(f\"Current System Analysis:\")\n",
    "if current_system_bicycle_count > bicycle_count:\n",
    "    print(f\"    we have removed {current_system_bicycle_count - bicycle_count} bicycles from the system, resulting in ${(current_system_bicycle_count - bicycle_count) * bicycle_cost} saved\")\n",
    "else:\n",
    "    print(f\"    we have added {bicycle_count - current_system_bicycle_count} bicycles to the system, resulting in ${(bicycle_count - current_system_bicycle_count) * bicycle_cost} of additional cost\")\n",
    "if current_system_dock_count > dock_count:\n",
    "    print(f\"    we have removed {current_system_dock_count - dock_count} docks from the system, resulting in ${(current_system_dock_count - dock_count) * dock_cost} saved\")\n",
    "else:\n",
    "    print(f\"    we have added {dock_count - current_system_dock_count} docks to the system, resulting in ${(dock_count - current_system_dock_count) * dock_cost} of additional cost\")\n",
    "\n",
    "print(f\"Achieved Happy Percentage: {round(happy_pct, 2)}%\")\n",
    "if happy_pct >= required_happy_pct:\n",
    "    print(f\"    So, we have already achieved {round(happy_pct, 2)}% happy tourists!! Hurray!!\")\n",
    "else:\n",
    "    print(f\"    So, we need to reduce additional {round(required_happy_pct - happy_pct, 2)}% of tourists waiting time to achieve {required_happy_pct}% happy tourists\")\n",
    "\n",
    "print(f\"Max Waiting Time: {max_wait_time_row['avg_wait_time_per_tourist'].values[0]} mins ({round(max_wait_time_row['avg_wait_time_per_tourist'].values[0] / 60, 2)} hrs) at Replication {max_wait_time_row['replication_no'].values[0]}\")\n",
    "if max_wait_time_row['avg_wait_time_per_tourist'].values[0] > 60:\n",
    "    print(f\"    Current System is NOT satisfactory!\")\n",
    "    print(f\"    So, we need to reduce the max waiting time by {round(max_wait_time_row['avg_wait_time_per_tourist'].values[0] - 60, 2)} mins\")\n",
    "else:\n",
    "    print(f\"    Current System is satisfactory!!!\")\n",
    "    print(f\"    So, we need to reduce the max waiting time by {round(max_wait_time_row['avg_wait_time_per_tourist'].values[0] - 60, 2)} mins\")\n",
    "\n",
    "print(\"*** End of Result ***\")\n"
   ]
  }
 ],
 "metadata": {
  "kernelspec": {
   "display_name": "Python 3",
   "language": "python",
   "name": "python3"
  },
  "language_info": {
   "codemirror_mode": {
    "name": "ipython",
    "version": 3
   },
   "file_extension": ".py",
   "mimetype": "text/x-python",
   "name": "python",
   "nbconvert_exporter": "python",
   "pygments_lexer": "ipython3",
   "version": "3.9.6"
  }
 },
 "nbformat": 4,
 "nbformat_minor": 2
}
