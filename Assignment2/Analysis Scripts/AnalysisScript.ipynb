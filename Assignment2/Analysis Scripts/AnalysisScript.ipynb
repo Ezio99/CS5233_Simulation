{
 "cells": [
  {
   "metadata": {
    "ExecuteTime": {
     "end_time": "2025-03-22T10:16:17.425267Z",
     "start_time": "2025-03-22T10:16:17.420139Z"
    }
   },
   "cell_type": "code",
   "source": [
    "import matplotlib.pyplot as plt\n",
    "import pandas as pd\n",
    "import os"
   ],
   "id": "5a3a86d93e9132c3",
   "outputs": [],
   "execution_count": 48
  },
  {
   "metadata": {
    "ExecuteTime": {
     "end_time": "2025-03-22T10:16:17.455591Z",
     "start_time": "2025-03-22T10:16:17.438723Z"
    }
   },
   "cell_type": "code",
   "source": "folder_path = \"./Data\"",
   "id": "fd97f7551f904ba2",
   "outputs": [],
   "execution_count": 49
  },
  {
   "metadata": {},
   "cell_type": "markdown",
   "source": [
    "### Question 1\n",
    "\n",
    "You are to calculate the average waiting time for renting or returning a bicycle at each\n",
    "station. If tourists should not wait more than one hour in total (both for renting bikes\n",
    "and returning them), is the current system satisfactory?"
   ],
   "id": "9ccd44ff11330b94"
  },
  {
   "metadata": {
    "ExecuteTime": {
     "end_time": "2025-03-22T10:16:17.502049Z",
     "start_time": "2025-03-22T10:16:17.487118Z"
    }
   },
   "cell_type": "code",
   "source": [
    "csv_files = [f for f in os.listdir(folder_path) if \"queue\" in f]\n",
    "\n",
    "\n",
    "len(csv_files)"
   ],
   "id": "92034eab830c1c28",
   "outputs": [
    {
     "data": {
      "text/plain": [
       "8"
      ]
     },
     "execution_count": 50,
     "metadata": {},
     "output_type": "execute_result"
    }
   ],
   "execution_count": 50
  },
  {
   "metadata": {
    "ExecuteTime": {
     "end_time": "2025-03-22T10:18:32.717388Z",
     "start_time": "2025-03-22T10:18:32.649957Z"
    }
   },
   "cell_type": "code",
   "source": [
    "all_waits = []\n",
    "\n",
    "for file in csv_files:\n",
    "    file_path = os.path.join(folder_path, file)\n",
    "    df = pd.read_csv(file_path)\n",
    "    \n",
    "    # Drop empty columns\n",
    "    df = df.loc[:, ~df.columns.str.contains('^Unnamed')]\n",
    "    \n",
    "    # Compute wait time\n",
    "    df[\"wait_time\"] = df[\"curr_WaitTime\"] - df[\"prev_WaitTime\"]\n",
    "    \n",
    "    # Keep relevant columns\n",
    "    df = df[[\"replication_no\", \"id\", \"wait_time\"]]\n",
    "    \n",
    "    all_waits.append(df)\n",
    "    \n",
    "all_waits"
   ],
   "id": "5ae3faa6d90fde60",
   "outputs": [
    {
     "data": {
      "text/plain": [
       "[      replication_no   id  wait_time\n",
       " 0                  1   10        0.0\n",
       " 1                  1   15        0.0\n",
       " 2                  1   20        0.0\n",
       " 3                  1   23        0.0\n",
       " 4                  1   13        0.0\n",
       " ...              ...  ...        ...\n",
       " 3330               6  817        0.0\n",
       " 3331               6  807        0.0\n",
       " 3332               6  805        0.0\n",
       " 3333               6  808        0.0\n",
       " 3334               6  742        0.0\n",
       " \n",
       " [3335 rows x 3 columns],\n",
       "       replication_no   id  wait_time\n",
       " 0                  1   11        0.0\n",
       " 1                  1   16        0.0\n",
       " 2                  1   14        0.0\n",
       " 3                  1   17        0.0\n",
       " 4                  1   18        0.0\n",
       " ...              ...  ...        ...\n",
       " 3346               6  799        0.0\n",
       " 3347               6  806        0.0\n",
       " 3348               6  827        0.0\n",
       " 3349               6  823        0.0\n",
       " 3350               6  813        0.0\n",
       " \n",
       " [3351 rows x 3 columns],\n",
       "       replication_no   id  wait_time\n",
       " 0                  1   12        0.0\n",
       " 1                  1   19        0.0\n",
       " 2                  1   11        0.0\n",
       " 3                  1   24        0.0\n",
       " 4                  1   27        0.0\n",
       " ...              ...  ...        ...\n",
       " 3206               6  821        0.0\n",
       " 3207               6  819        0.0\n",
       " 3208               6  822        0.0\n",
       " 3209               6  824        0.0\n",
       " 3210               6  826        0.0\n",
       " \n",
       " [3211 rows x 3 columns],\n",
       "       replication_no   id  wait_time\n",
       " 0                  1   13        0.0\n",
       " 1                  1   21        0.0\n",
       " 2                  1   12        0.0\n",
       " 3                  1   31        0.0\n",
       " 4                  1   19        0.0\n",
       " ...              ...  ...        ...\n",
       " 3245               6  755        0.0\n",
       " 3246               6  748        0.0\n",
       " 3247               6  820        0.0\n",
       " 3248               6  754        0.0\n",
       " 3249               6  825        0.0\n",
       " \n",
       " [3250 rows x 3 columns],\n",
       "       replication_no   id  wait_time\n",
       " 0                  1   13        0.0\n",
       " 1                  1   21        0.0\n",
       " 2                  1   12        0.0\n",
       " 3                  1   31        0.0\n",
       " 4                  1   19        0.0\n",
       " ...              ...  ...        ...\n",
       " 3224               6  741        0.0\n",
       " 3225               6  761        0.0\n",
       " 3226               6  755        0.0\n",
       " 3227               6  748        0.0\n",
       " 3228               6  820        0.0\n",
       " \n",
       " [3229 rows x 3 columns],\n",
       "       replication_no   id  wait_time\n",
       " 0                  1   10   1.644738\n",
       " 1                  1   15   0.000000\n",
       " 2                  1   20   0.000000\n",
       " 3                  1   23   0.000000\n",
       " 4                  1   13   0.000000\n",
       " ...              ...  ...        ...\n",
       " 3233               6  817   0.000000\n",
       " 3234               6  815   0.000000\n",
       " 3235               6  805   0.000000\n",
       " 3236               6  808   0.000000\n",
       " 3237               6  742   0.000000\n",
       " \n",
       " [3238 rows x 3 columns],\n",
       "       replication_no   id  wait_time\n",
       " 0                  1   11   0.000000\n",
       " 1                  1   16  12.745262\n",
       " 2                  1   14  16.579639\n",
       " 3                  1   17  14.007313\n",
       " 4                  1   18  12.534187\n",
       " ...              ...  ...        ...\n",
       " 3179               6  814   0.000000\n",
       " 3180               6  809   0.000000\n",
       " 3181               6  818   0.000000\n",
       " 3182               6  806   0.000000\n",
       " 3183               6  799   0.000000\n",
       " \n",
       " [3184 rows x 3 columns],\n",
       "       replication_no   id   wait_time\n",
       " 0                  1   12    0.000000\n",
       " 1                  1   19    7.713225\n",
       " 2                  1   11    0.000000\n",
       " 3                  1   24   12.737261\n",
       " 4                  1   29   17.631797\n",
       " ...              ...  ...         ...\n",
       " 3155               6  772  141.012307\n",
       " 3156               6  762  137.867399\n",
       " 3157               6  780  130.931648\n",
       " 3158               6  765  133.597643\n",
       " 3159               6  767  135.180001\n",
       " \n",
       " [3160 rows x 3 columns]]"
      ]
     },
     "execution_count": 56,
     "metadata": {},
     "output_type": "execute_result"
    }
   ],
   "execution_count": 56
  },
  {
   "metadata": {
    "ExecuteTime": {
     "end_time": "2025-03-22T10:16:17.626250Z",
     "start_time": "2025-03-22T10:16:17.611921Z"
    }
   },
   "cell_type": "code",
   "source": [
    "combined_df = pd.concat(all_waits, ignore_index=True)\n",
    "\n",
    "combined_df"
   ],
   "id": "d06dd1c0c08b5514",
   "outputs": [
    {
     "data": {
      "text/plain": [
       "       replication_no   id   wait_time\n",
       "0                   1   10    0.000000\n",
       "1                   1   15    0.000000\n",
       "2                   1   20    0.000000\n",
       "3                   1   23    0.000000\n",
       "4                   1   13    0.000000\n",
       "...               ...  ...         ...\n",
       "25953               6  772  141.012307\n",
       "25954               6  762  137.867399\n",
       "25955               6  780  130.931648\n",
       "25956               6  765  133.597643\n",
       "25957               6  767  135.180001\n",
       "\n",
       "[25958 rows x 3 columns]"
      ],
      "text/html": [
       "<div>\n",
       "<style scoped>\n",
       "    .dataframe tbody tr th:only-of-type {\n",
       "        vertical-align: middle;\n",
       "    }\n",
       "\n",
       "    .dataframe tbody tr th {\n",
       "        vertical-align: top;\n",
       "    }\n",
       "\n",
       "    .dataframe thead th {\n",
       "        text-align: right;\n",
       "    }\n",
       "</style>\n",
       "<table border=\"1\" class=\"dataframe\">\n",
       "  <thead>\n",
       "    <tr style=\"text-align: right;\">\n",
       "      <th></th>\n",
       "      <th>replication_no</th>\n",
       "      <th>id</th>\n",
       "      <th>wait_time</th>\n",
       "    </tr>\n",
       "  </thead>\n",
       "  <tbody>\n",
       "    <tr>\n",
       "      <th>0</th>\n",
       "      <td>1</td>\n",
       "      <td>10</td>\n",
       "      <td>0.000000</td>\n",
       "    </tr>\n",
       "    <tr>\n",
       "      <th>1</th>\n",
       "      <td>1</td>\n",
       "      <td>15</td>\n",
       "      <td>0.000000</td>\n",
       "    </tr>\n",
       "    <tr>\n",
       "      <th>2</th>\n",
       "      <td>1</td>\n",
       "      <td>20</td>\n",
       "      <td>0.000000</td>\n",
       "    </tr>\n",
       "    <tr>\n",
       "      <th>3</th>\n",
       "      <td>1</td>\n",
       "      <td>23</td>\n",
       "      <td>0.000000</td>\n",
       "    </tr>\n",
       "    <tr>\n",
       "      <th>4</th>\n",
       "      <td>1</td>\n",
       "      <td>13</td>\n",
       "      <td>0.000000</td>\n",
       "    </tr>\n",
       "    <tr>\n",
       "      <th>...</th>\n",
       "      <td>...</td>\n",
       "      <td>...</td>\n",
       "      <td>...</td>\n",
       "    </tr>\n",
       "    <tr>\n",
       "      <th>25953</th>\n",
       "      <td>6</td>\n",
       "      <td>772</td>\n",
       "      <td>141.012307</td>\n",
       "    </tr>\n",
       "    <tr>\n",
       "      <th>25954</th>\n",
       "      <td>6</td>\n",
       "      <td>762</td>\n",
       "      <td>137.867399</td>\n",
       "    </tr>\n",
       "    <tr>\n",
       "      <th>25955</th>\n",
       "      <td>6</td>\n",
       "      <td>780</td>\n",
       "      <td>130.931648</td>\n",
       "    </tr>\n",
       "    <tr>\n",
       "      <th>25956</th>\n",
       "      <td>6</td>\n",
       "      <td>765</td>\n",
       "      <td>133.597643</td>\n",
       "    </tr>\n",
       "    <tr>\n",
       "      <th>25957</th>\n",
       "      <td>6</td>\n",
       "      <td>767</td>\n",
       "      <td>135.180001</td>\n",
       "    </tr>\n",
       "  </tbody>\n",
       "</table>\n",
       "<p>25958 rows × 3 columns</p>\n",
       "</div>"
      ]
     },
     "execution_count": 52,
     "metadata": {},
     "output_type": "execute_result"
    }
   ],
   "execution_count": 52
  },
  {
   "metadata": {
    "ExecuteTime": {
     "end_time": "2025-03-22T10:21:44.441586Z",
     "start_time": "2025-03-22T10:21:44.424042Z"
    }
   },
   "cell_type": "code",
   "source": [
    "def get_wait_times(replication_no, tourist_id, df):\n",
    "    \"\"\"\n",
    "    Returns a NumPy array of all wait times for a given tourist ID and replication number.\n",
    "    \n",
    "    Parameters:\n",
    "        replication_no (int): The replication number.\n",
    "        tourist_id (int): The ID of the tourist.\n",
    "        df (pd.DataFrame): The combined all_waits DataFrame.\n",
    "    \n",
    "    Returns:\n",
    "        np.ndarray: Array of wait times for the given tourist in that replication.\n",
    "    \"\"\"\n",
    "    filtered = df[(df[\"replication_no\"] == replication_no) & (df[\"id\"] == tourist_id)]\n",
    "    return filtered[\"wait_time\"].values\n",
    "\n",
    "get_wait_times(1,10,combined_df)"
   ],
   "id": "eca0a22d406245f7",
   "outputs": [
    {
     "data": {
      "text/plain": [
       "array([ 0.      ,  0.      ,  0.      ,  1.644738, 11.707794, 27.737416])"
      ]
     },
     "execution_count": 58,
     "metadata": {},
     "output_type": "execute_result"
    }
   ],
   "execution_count": 58
  },
  {
   "metadata": {
    "ExecuteTime": {
     "end_time": "2025-03-22T10:16:17.703130Z",
     "start_time": "2025-03-22T10:16:17.689442Z"
    }
   },
   "cell_type": "code",
   "source": [
    "tourist_avg_waits = (\n",
    "    combined_df.groupby([\"replication_no\", \"id\"])\n",
    "    .agg(total_wait=(\"wait_time\", \"sum\"), num_interactions=(\"wait_time\", \"count\"))\n",
    "    .reset_index()\n",
    ")\n",
    "tourist_avg_waits"
   ],
   "id": "37297ff9443a4ed8",
   "outputs": [
    {
     "data": {
      "text/plain": [
       "      replication_no   id  total_wait  num_interactions\n",
       "0                  1   10   41.089948                 6\n",
       "1                  1   11    0.000000                 4\n",
       "2                  1   12    0.000000                 8\n",
       "3                  1   13    0.000000                 4\n",
       "4                  1   14   44.761548                 4\n",
       "...              ...  ...         ...               ...\n",
       "4603               6  823    0.000000                 1\n",
       "4604               6  824    0.000000                 1\n",
       "4605               6  825    0.000000                 1\n",
       "4606               6  826    0.000000                 1\n",
       "4607               6  827    0.000000                 1\n",
       "\n",
       "[4608 rows x 4 columns]"
      ],
      "text/html": [
       "<div>\n",
       "<style scoped>\n",
       "    .dataframe tbody tr th:only-of-type {\n",
       "        vertical-align: middle;\n",
       "    }\n",
       "\n",
       "    .dataframe tbody tr th {\n",
       "        vertical-align: top;\n",
       "    }\n",
       "\n",
       "    .dataframe thead th {\n",
       "        text-align: right;\n",
       "    }\n",
       "</style>\n",
       "<table border=\"1\" class=\"dataframe\">\n",
       "  <thead>\n",
       "    <tr style=\"text-align: right;\">\n",
       "      <th></th>\n",
       "      <th>replication_no</th>\n",
       "      <th>id</th>\n",
       "      <th>total_wait</th>\n",
       "      <th>num_interactions</th>\n",
       "    </tr>\n",
       "  </thead>\n",
       "  <tbody>\n",
       "    <tr>\n",
       "      <th>0</th>\n",
       "      <td>1</td>\n",
       "      <td>10</td>\n",
       "      <td>41.089948</td>\n",
       "      <td>6</td>\n",
       "    </tr>\n",
       "    <tr>\n",
       "      <th>1</th>\n",
       "      <td>1</td>\n",
       "      <td>11</td>\n",
       "      <td>0.000000</td>\n",
       "      <td>4</td>\n",
       "    </tr>\n",
       "    <tr>\n",
       "      <th>2</th>\n",
       "      <td>1</td>\n",
       "      <td>12</td>\n",
       "      <td>0.000000</td>\n",
       "      <td>8</td>\n",
       "    </tr>\n",
       "    <tr>\n",
       "      <th>3</th>\n",
       "      <td>1</td>\n",
       "      <td>13</td>\n",
       "      <td>0.000000</td>\n",
       "      <td>4</td>\n",
       "    </tr>\n",
       "    <tr>\n",
       "      <th>4</th>\n",
       "      <td>1</td>\n",
       "      <td>14</td>\n",
       "      <td>44.761548</td>\n",
       "      <td>4</td>\n",
       "    </tr>\n",
       "    <tr>\n",
       "      <th>...</th>\n",
       "      <td>...</td>\n",
       "      <td>...</td>\n",
       "      <td>...</td>\n",
       "      <td>...</td>\n",
       "    </tr>\n",
       "    <tr>\n",
       "      <th>4603</th>\n",
       "      <td>6</td>\n",
       "      <td>823</td>\n",
       "      <td>0.000000</td>\n",
       "      <td>1</td>\n",
       "    </tr>\n",
       "    <tr>\n",
       "      <th>4604</th>\n",
       "      <td>6</td>\n",
       "      <td>824</td>\n",
       "      <td>0.000000</td>\n",
       "      <td>1</td>\n",
       "    </tr>\n",
       "    <tr>\n",
       "      <th>4605</th>\n",
       "      <td>6</td>\n",
       "      <td>825</td>\n",
       "      <td>0.000000</td>\n",
       "      <td>1</td>\n",
       "    </tr>\n",
       "    <tr>\n",
       "      <th>4606</th>\n",
       "      <td>6</td>\n",
       "      <td>826</td>\n",
       "      <td>0.000000</td>\n",
       "      <td>1</td>\n",
       "    </tr>\n",
       "    <tr>\n",
       "      <th>4607</th>\n",
       "      <td>6</td>\n",
       "      <td>827</td>\n",
       "      <td>0.000000</td>\n",
       "      <td>1</td>\n",
       "    </tr>\n",
       "  </tbody>\n",
       "</table>\n",
       "<p>4608 rows × 4 columns</p>\n",
       "</div>"
      ]
     },
     "execution_count": 53,
     "metadata": {},
     "output_type": "execute_result"
    }
   ],
   "execution_count": 53
  },
  {
   "metadata": {
    "ExecuteTime": {
     "end_time": "2025-03-22T10:16:17.797329Z",
     "start_time": "2025-03-22T10:16:17.785072Z"
    }
   },
   "cell_type": "code",
   "source": [
    "tourist_avg_waits[\"avg_wait_time\"] = tourist_avg_waits[\"total_wait\"] / tourist_avg_waits[\"num_interactions\"]\n",
    "\n",
    "tourist_avg_waits[\"avg_wait_time\"]"
   ],
   "id": "14d70948e03fadaf",
   "outputs": [
    {
     "data": {
      "text/plain": [
       "0        6.848325\n",
       "1        0.000000\n",
       "2        0.000000\n",
       "3        0.000000\n",
       "4       11.190387\n",
       "          ...    \n",
       "4603     0.000000\n",
       "4604     0.000000\n",
       "4605     0.000000\n",
       "4606     0.000000\n",
       "4607     0.000000\n",
       "Name: avg_wait_time, Length: 4608, dtype: float64"
      ]
     },
     "execution_count": 54,
     "metadata": {},
     "output_type": "execute_result"
    }
   ],
   "execution_count": 54
  },
  {
   "metadata": {
    "ExecuteTime": {
     "end_time": "2025-03-22T10:16:20.077807Z",
     "start_time": "2025-03-22T10:16:20.069694Z"
    }
   },
   "cell_type": "code",
   "source": [
    "replication_avg = (\n",
    "    tourist_avg_waits.groupby(\"replication_no\")[\"avg_wait_time\"]\n",
    "    .mean()\n",
    "    .reset_index()\n",
    "    .rename(columns={\"avg_wait_time\": \"average_wait_time_per_tourist\"})\n",
    ")\n",
    "replication_avg"
   ],
   "id": "3e4a2ab9d3ce2063",
   "outputs": [
    {
     "data": {
      "text/plain": [
       "   replication_no  average_wait_time_per_tourist\n",
       "0               1                       9.020781\n",
       "1               2                       7.136661\n",
       "2               3                      18.892250\n",
       "3               4                      15.988182\n",
       "4               5                      12.135152\n",
       "5               6                      10.083035"
      ],
      "text/html": [
       "<div>\n",
       "<style scoped>\n",
       "    .dataframe tbody tr th:only-of-type {\n",
       "        vertical-align: middle;\n",
       "    }\n",
       "\n",
       "    .dataframe tbody tr th {\n",
       "        vertical-align: top;\n",
       "    }\n",
       "\n",
       "    .dataframe thead th {\n",
       "        text-align: right;\n",
       "    }\n",
       "</style>\n",
       "<table border=\"1\" class=\"dataframe\">\n",
       "  <thead>\n",
       "    <tr style=\"text-align: right;\">\n",
       "      <th></th>\n",
       "      <th>replication_no</th>\n",
       "      <th>average_wait_time_per_tourist</th>\n",
       "    </tr>\n",
       "  </thead>\n",
       "  <tbody>\n",
       "    <tr>\n",
       "      <th>0</th>\n",
       "      <td>1</td>\n",
       "      <td>9.020781</td>\n",
       "    </tr>\n",
       "    <tr>\n",
       "      <th>1</th>\n",
       "      <td>2</td>\n",
       "      <td>7.136661</td>\n",
       "    </tr>\n",
       "    <tr>\n",
       "      <th>2</th>\n",
       "      <td>3</td>\n",
       "      <td>18.892250</td>\n",
       "    </tr>\n",
       "    <tr>\n",
       "      <th>3</th>\n",
       "      <td>4</td>\n",
       "      <td>15.988182</td>\n",
       "    </tr>\n",
       "    <tr>\n",
       "      <th>4</th>\n",
       "      <td>5</td>\n",
       "      <td>12.135152</td>\n",
       "    </tr>\n",
       "    <tr>\n",
       "      <th>5</th>\n",
       "      <td>6</td>\n",
       "      <td>10.083035</td>\n",
       "    </tr>\n",
       "  </tbody>\n",
       "</table>\n",
       "</div>"
      ]
     },
     "execution_count": 55,
     "metadata": {},
     "output_type": "execute_result"
    }
   ],
   "execution_count": 55
  }
 ],
 "metadata": {
  "kernelspec": {
   "display_name": "Python 3",
   "language": "python",
   "name": "python3"
  },
  "language_info": {
   "codemirror_mode": {
    "name": "ipython",
    "version": 2
   },
   "file_extension": ".py",
   "mimetype": "text/x-python",
   "name": "python",
   "nbconvert_exporter": "python",
   "pygments_lexer": "ipython2",
   "version": "2.7.6"
  }
 },
 "nbformat": 4,
 "nbformat_minor": 5
}
