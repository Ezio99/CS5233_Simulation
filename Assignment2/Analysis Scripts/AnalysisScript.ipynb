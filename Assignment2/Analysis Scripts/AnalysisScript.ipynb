{
 "cells": [
  {
   "metadata": {
    "ExecuteTime": {
     "end_time": "2025-03-22T10:49:36.736725Z",
     "start_time": "2025-03-22T10:49:36.724550Z"
    }
   },
   "cell_type": "code",
   "source": [
    "import matplotlib.pyplot as plt\n",
    "import pandas as pd\n",
    "import os"
   ],
   "id": "5a3a86d93e9132c3",
   "outputs": [],
   "execution_count": 81
  },
  {
   "metadata": {
    "ExecuteTime": {
     "end_time": "2025-03-22T10:49:36.768190Z",
     "start_time": "2025-03-22T10:49:36.755766Z"
    }
   },
   "cell_type": "code",
   "source": "folder_path = \"./Data\"",
   "id": "fd97f7551f904ba2",
   "outputs": [],
   "execution_count": 82
  },
  {
   "metadata": {},
   "cell_type": "markdown",
   "source": [
    "### Question 1\n",
    "\n",
    "You are to calculate the average waiting time for renting or returning a bicycle at each\n",
    "station. If tourists should not wait more than one hour in total (both for renting bikes\n",
    "and returning them), is the current system satisfactory?"
   ],
   "id": "9ccd44ff11330b94"
  },
  {
   "metadata": {
    "ExecuteTime": {
     "end_time": "2025-03-22T10:49:36.829864Z",
     "start_time": "2025-03-22T10:49:36.818328Z"
    }
   },
   "cell_type": "code",
   "source": [
    "csv_files = [f for f in os.listdir(folder_path) if \"queue\" in f]\n",
    "\n",
    "\n",
    "len(csv_files)"
   ],
   "id": "92034eab830c1c28",
   "outputs": [
    {
     "data": {
      "text/plain": [
       "8"
      ]
     },
     "execution_count": 83,
     "metadata": {},
     "output_type": "execute_result"
    }
   ],
   "execution_count": 83
  },
  {
   "metadata": {
    "ExecuteTime": {
     "end_time": "2025-03-22T10:49:36.984732Z",
     "start_time": "2025-03-22T10:49:36.863465Z"
    }
   },
   "cell_type": "code",
   "source": [
    "all_waits = []\n",
    "\n",
    "for file in csv_files:\n",
    "    file_path = os.path.join(folder_path, file)\n",
    "    df = pd.read_csv(file_path)\n",
    "    \n",
    "    # Drop empty columns\n",
    "    df = df.loc[:, ~df.columns.str.contains('^Unnamed')]\n",
    "    \n",
    "    # Compute wait time\n",
    "    df[\"wait_time\"] = df[\"curr_WaitTime\"] - df[\"prev_WaitTime\"]\n",
    "    \n",
    "    # Keep relevant columns\n",
    "    df = df[[\"replication_no\", \"id\", \"wait_time\"]]\n",
    "    \n",
    "    all_waits.append(df)\n",
    "    \n",
    "all_waits"
   ],
   "id": "5ae3faa6d90fde60",
   "outputs": [
    {
     "data": {
      "text/plain": [
       "[       replication_no    id  wait_time\n",
       " 0                   1    10        0.0\n",
       " 1                   1    15        0.0\n",
       " 2                   1    20        0.0\n",
       " 3                   1    23        0.0\n",
       " 4                   1    13        0.0\n",
       " ...               ...   ...        ...\n",
       " 16115               6  3734        0.0\n",
       " 16116               6  3643        0.0\n",
       " 16117               6  3656        0.0\n",
       " 16118               6  3725        0.0\n",
       " 16119               6  3744        0.0\n",
       " \n",
       " [16120 rows x 3 columns],\n",
       "        replication_no    id  wait_time\n",
       " 0                   1    11        0.0\n",
       " 1                   1    16        0.0\n",
       " 2                   1    14        0.0\n",
       " 3                   1    17        0.0\n",
       " 4                   1    18        0.0\n",
       " ...               ...   ...        ...\n",
       " 15996               6  3655        0.0\n",
       " 15997               6  3722        0.0\n",
       " 15998               6  3732        0.0\n",
       " 15999               6  3731        0.0\n",
       " 16000               6  3745        0.0\n",
       " \n",
       " [16001 rows x 3 columns],\n",
       "        replication_no    id  wait_time\n",
       " 0                   1    12        0.0\n",
       " 1                   1    19        0.0\n",
       " 2                   1    11        0.0\n",
       " 3                   1    24        0.0\n",
       " 4                   1    27        0.0\n",
       " ...               ...   ...        ...\n",
       " 15806               6  3736        0.0\n",
       " 15807               6  3726        0.0\n",
       " 15808               6  3742        0.0\n",
       " 15809               6  3714        0.0\n",
       " 15810               6  3727        0.0\n",
       " \n",
       " [15811 rows x 3 columns],\n",
       "        replication_no    id  wait_time\n",
       " 0                   1    13        0.0\n",
       " 1                   1    21        0.0\n",
       " 2                   1    12        0.0\n",
       " 3                   1    31        0.0\n",
       " 4                   1    19        0.0\n",
       " ...               ...   ...        ...\n",
       " 15890               6  3746        0.0\n",
       " 15891               6  3743        0.0\n",
       " 15892               6  3667        0.0\n",
       " 15893               6  3747        0.0\n",
       " 15894               6  3647        0.0\n",
       " \n",
       " [15895 rows x 3 columns],\n",
       "        replication_no    id  wait_time\n",
       " 0                   1    13        0.0\n",
       " 1                   1    21        0.0\n",
       " 2                   1    12        0.0\n",
       " 3                   1    31        0.0\n",
       " 4                   1    19        0.0\n",
       " ...               ...   ...        ...\n",
       " 15844               6  3746        0.0\n",
       " 15845               6  3743        0.0\n",
       " 15846               6  3667        0.0\n",
       " 15847               6  3647        0.0\n",
       " 15848               6  3747        0.0\n",
       " \n",
       " [15849 rows x 3 columns],\n",
       "        replication_no    id  wait_time\n",
       " 0                   1    10   1.644738\n",
       " 1                   1    15   0.000000\n",
       " 2                   1    20   0.000000\n",
       " 3                   1    23   0.000000\n",
       " 4                   1    13   0.000000\n",
       " ...               ...   ...        ...\n",
       " 15924               6  3734   0.000000\n",
       " 15925               6  3643   0.000000\n",
       " 15926               6  3656   0.000000\n",
       " 15927               6  3725   0.000000\n",
       " 15928               6  3744   0.000000\n",
       " \n",
       " [15929 rows x 3 columns],\n",
       "        replication_no    id  wait_time\n",
       " 0                   1    11   0.000000\n",
       " 1                   1    16  12.745262\n",
       " 2                   1    14  16.579639\n",
       " 3                   1    17  14.007313\n",
       " 4                   1    18  12.534187\n",
       " ...               ...   ...        ...\n",
       " 15748               6  3739   0.000000\n",
       " 15749               6  3728   0.000000\n",
       " 15750               6  3741   0.000000\n",
       " 15751               6  3655   0.000000\n",
       " 15752               6  3722   0.000000\n",
       " \n",
       " [15753 rows x 3 columns],\n",
       "        replication_no    id   wait_time\n",
       " 0                   1    12    0.000000\n",
       " 1                   1    19    7.713225\n",
       " 2                   1    11    0.000000\n",
       " 3                   1    24   12.737261\n",
       " 4                   1    29   17.631797\n",
       " ...               ...   ...         ...\n",
       " 15679               6  3674  148.638968\n",
       " 15680               6  3628  138.304881\n",
       " 15681               6  3660  136.408257\n",
       " 15682               6  3652  138.321089\n",
       " 15683               6  3685  137.316829\n",
       " \n",
       " [15684 rows x 3 columns]]"
      ]
     },
     "execution_count": 84,
     "metadata": {},
     "output_type": "execute_result"
    }
   ],
   "execution_count": 84
  },
  {
   "metadata": {
    "ExecuteTime": {
     "end_time": "2025-03-22T10:49:37.031749Z",
     "start_time": "2025-03-22T10:49:37.017633Z"
    }
   },
   "cell_type": "code",
   "source": [
    "combined_df = pd.concat(all_waits, ignore_index=True)\n",
    "\n",
    "# Filtering all ones where we 0 waiting time\n",
    "combined_df = combined_df[combined_df[\"wait_time\"] > 0]\n",
    "\n",
    "combined_df"
   ],
   "id": "d06dd1c0c08b5514",
   "outputs": [
    {
     "data": {
      "text/plain": [
       "        replication_no    id   wait_time\n",
       "5338                 2  3403    2.866366\n",
       "5339                 2  3483    0.593555\n",
       "5340                 2  3408    2.498028\n",
       "5344                 2  3490    2.001491\n",
       "7581                 3  2946    3.593585\n",
       "...                ...   ...         ...\n",
       "127037               6  3674  148.638968\n",
       "127038               6  3628  138.304881\n",
       "127039               6  3660  136.408257\n",
       "127040               6  3652  138.321089\n",
       "127041               6  3685  137.316829\n",
       "\n",
       "[24395 rows x 3 columns]"
      ],
      "text/html": [
       "<div>\n",
       "<style scoped>\n",
       "    .dataframe tbody tr th:only-of-type {\n",
       "        vertical-align: middle;\n",
       "    }\n",
       "\n",
       "    .dataframe tbody tr th {\n",
       "        vertical-align: top;\n",
       "    }\n",
       "\n",
       "    .dataframe thead th {\n",
       "        text-align: right;\n",
       "    }\n",
       "</style>\n",
       "<table border=\"1\" class=\"dataframe\">\n",
       "  <thead>\n",
       "    <tr style=\"text-align: right;\">\n",
       "      <th></th>\n",
       "      <th>replication_no</th>\n",
       "      <th>id</th>\n",
       "      <th>wait_time</th>\n",
       "    </tr>\n",
       "  </thead>\n",
       "  <tbody>\n",
       "    <tr>\n",
       "      <th>5338</th>\n",
       "      <td>2</td>\n",
       "      <td>3403</td>\n",
       "      <td>2.866366</td>\n",
       "    </tr>\n",
       "    <tr>\n",
       "      <th>5339</th>\n",
       "      <td>2</td>\n",
       "      <td>3483</td>\n",
       "      <td>0.593555</td>\n",
       "    </tr>\n",
       "    <tr>\n",
       "      <th>5340</th>\n",
       "      <td>2</td>\n",
       "      <td>3408</td>\n",
       "      <td>2.498028</td>\n",
       "    </tr>\n",
       "    <tr>\n",
       "      <th>5344</th>\n",
       "      <td>2</td>\n",
       "      <td>3490</td>\n",
       "      <td>2.001491</td>\n",
       "    </tr>\n",
       "    <tr>\n",
       "      <th>7581</th>\n",
       "      <td>3</td>\n",
       "      <td>2946</td>\n",
       "      <td>3.593585</td>\n",
       "    </tr>\n",
       "    <tr>\n",
       "      <th>...</th>\n",
       "      <td>...</td>\n",
       "      <td>...</td>\n",
       "      <td>...</td>\n",
       "    </tr>\n",
       "    <tr>\n",
       "      <th>127037</th>\n",
       "      <td>6</td>\n",
       "      <td>3674</td>\n",
       "      <td>148.638968</td>\n",
       "    </tr>\n",
       "    <tr>\n",
       "      <th>127038</th>\n",
       "      <td>6</td>\n",
       "      <td>3628</td>\n",
       "      <td>138.304881</td>\n",
       "    </tr>\n",
       "    <tr>\n",
       "      <th>127039</th>\n",
       "      <td>6</td>\n",
       "      <td>3660</td>\n",
       "      <td>136.408257</td>\n",
       "    </tr>\n",
       "    <tr>\n",
       "      <th>127040</th>\n",
       "      <td>6</td>\n",
       "      <td>3652</td>\n",
       "      <td>138.321089</td>\n",
       "    </tr>\n",
       "    <tr>\n",
       "      <th>127041</th>\n",
       "      <td>6</td>\n",
       "      <td>3685</td>\n",
       "      <td>137.316829</td>\n",
       "    </tr>\n",
       "  </tbody>\n",
       "</table>\n",
       "<p>24395 rows × 3 columns</p>\n",
       "</div>"
      ]
     },
     "execution_count": 85,
     "metadata": {},
     "output_type": "execute_result"
    }
   ],
   "execution_count": 85
  },
  {
   "metadata": {
    "ExecuteTime": {
     "end_time": "2025-03-22T10:49:37.328613Z",
     "start_time": "2025-03-22T10:49:37.313666Z"
    }
   },
   "cell_type": "code",
   "source": [
    "def get_wait_times(replication_no, tourist_id, df):\n",
    "    \"\"\"\n",
    "    Returns a NumPy array of all wait times for a given tourist ID and replication number.\n",
    "    \n",
    "    Parameters:\n",
    "        replication_no (int): The replication number.\n",
    "        tourist_id (int): The ID of the tourist.\n",
    "        df (pd.DataFrame): The combined all_waits DataFrame.\n",
    "    \n",
    "    Returns:\n",
    "        np.ndarray: Array of wait times for the given tourist in that replication.\n",
    "    \"\"\"\n",
    "    filtered = df[(df[\"replication_no\"] == replication_no) & (df[\"id\"] == tourist_id)]\n",
    "    return filtered[\"wait_time\"].values\n",
    "\n",
    "get_wait_times(1,10,combined_df)"
   ],
   "id": "eca0a22d406245f7",
   "outputs": [
    {
     "data": {
      "text/plain": [
       "array([ 1.644738, 11.707794, 27.737416])"
      ]
     },
     "execution_count": 86,
     "metadata": {},
     "output_type": "execute_result"
    }
   ],
   "execution_count": 86
  },
  {
   "metadata": {
    "ExecuteTime": {
     "end_time": "2025-03-22T10:49:37.421042Z",
     "start_time": "2025-03-22T10:49:37.397796Z"
    }
   },
   "cell_type": "code",
   "source": [
    "tourist_avg_waits = (\n",
    "    combined_df.groupby([\"replication_no\", \"id\"])\n",
    "    .agg(total_wait=(\"wait_time\", \"sum\"), num_interactions=(\"wait_time\", \"count\"))\n",
    "    .reset_index()\n",
    ")\n",
    "tourist_avg_waits"
   ],
   "id": "37297ff9443a4ed8",
   "outputs": [
    {
     "data": {
      "text/plain": [
       "       replication_no    id  total_wait  num_interactions\n",
       "0                   1    10   41.089948                 3\n",
       "1                   1    14   44.761548                 2\n",
       "2                   1    15   33.910627                 2\n",
       "3                   1    16   48.032236                 2\n",
       "4                   1    17   40.781344                 2\n",
       "...               ...   ...         ...               ...\n",
       "17653               6  3667  131.485924                 1\n",
       "17654               6  3669  141.768584                 1\n",
       "17655               6  3674  148.638968                 1\n",
       "17656               6  3676  142.827090                 1\n",
       "17657               6  3685  137.316829                 1\n",
       "\n",
       "[17658 rows x 4 columns]"
      ],
      "text/html": [
       "<div>\n",
       "<style scoped>\n",
       "    .dataframe tbody tr th:only-of-type {\n",
       "        vertical-align: middle;\n",
       "    }\n",
       "\n",
       "    .dataframe tbody tr th {\n",
       "        vertical-align: top;\n",
       "    }\n",
       "\n",
       "    .dataframe thead th {\n",
       "        text-align: right;\n",
       "    }\n",
       "</style>\n",
       "<table border=\"1\" class=\"dataframe\">\n",
       "  <thead>\n",
       "    <tr style=\"text-align: right;\">\n",
       "      <th></th>\n",
       "      <th>replication_no</th>\n",
       "      <th>id</th>\n",
       "      <th>total_wait</th>\n",
       "      <th>num_interactions</th>\n",
       "    </tr>\n",
       "  </thead>\n",
       "  <tbody>\n",
       "    <tr>\n",
       "      <th>0</th>\n",
       "      <td>1</td>\n",
       "      <td>10</td>\n",
       "      <td>41.089948</td>\n",
       "      <td>3</td>\n",
       "    </tr>\n",
       "    <tr>\n",
       "      <th>1</th>\n",
       "      <td>1</td>\n",
       "      <td>14</td>\n",
       "      <td>44.761548</td>\n",
       "      <td>2</td>\n",
       "    </tr>\n",
       "    <tr>\n",
       "      <th>2</th>\n",
       "      <td>1</td>\n",
       "      <td>15</td>\n",
       "      <td>33.910627</td>\n",
       "      <td>2</td>\n",
       "    </tr>\n",
       "    <tr>\n",
       "      <th>3</th>\n",
       "      <td>1</td>\n",
       "      <td>16</td>\n",
       "      <td>48.032236</td>\n",
       "      <td>2</td>\n",
       "    </tr>\n",
       "    <tr>\n",
       "      <th>4</th>\n",
       "      <td>1</td>\n",
       "      <td>17</td>\n",
       "      <td>40.781344</td>\n",
       "      <td>2</td>\n",
       "    </tr>\n",
       "    <tr>\n",
       "      <th>...</th>\n",
       "      <td>...</td>\n",
       "      <td>...</td>\n",
       "      <td>...</td>\n",
       "      <td>...</td>\n",
       "    </tr>\n",
       "    <tr>\n",
       "      <th>17653</th>\n",
       "      <td>6</td>\n",
       "      <td>3667</td>\n",
       "      <td>131.485924</td>\n",
       "      <td>1</td>\n",
       "    </tr>\n",
       "    <tr>\n",
       "      <th>17654</th>\n",
       "      <td>6</td>\n",
       "      <td>3669</td>\n",
       "      <td>141.768584</td>\n",
       "      <td>1</td>\n",
       "    </tr>\n",
       "    <tr>\n",
       "      <th>17655</th>\n",
       "      <td>6</td>\n",
       "      <td>3674</td>\n",
       "      <td>148.638968</td>\n",
       "      <td>1</td>\n",
       "    </tr>\n",
       "    <tr>\n",
       "      <th>17656</th>\n",
       "      <td>6</td>\n",
       "      <td>3676</td>\n",
       "      <td>142.827090</td>\n",
       "      <td>1</td>\n",
       "    </tr>\n",
       "    <tr>\n",
       "      <th>17657</th>\n",
       "      <td>6</td>\n",
       "      <td>3685</td>\n",
       "      <td>137.316829</td>\n",
       "      <td>1</td>\n",
       "    </tr>\n",
       "  </tbody>\n",
       "</table>\n",
       "<p>17658 rows × 4 columns</p>\n",
       "</div>"
      ]
     },
     "execution_count": 87,
     "metadata": {},
     "output_type": "execute_result"
    }
   ],
   "execution_count": 87
  },
  {
   "metadata": {
    "ExecuteTime": {
     "end_time": "2025-03-22T10:49:37.483664Z",
     "start_time": "2025-03-22T10:49:37.470033Z"
    }
   },
   "cell_type": "code",
   "source": [
    "tourist_avg_waits[\"avg_wait_time\"] = tourist_avg_waits[\"total_wait\"] / tourist_avg_waits[\"num_interactions\"]\n",
    "\n",
    "tourist_avg_waits[\"avg_wait_time\"]"
   ],
   "id": "14d70948e03fadaf",
   "outputs": [
    {
     "data": {
      "text/plain": [
       "0         13.696649\n",
       "1         22.380774\n",
       "2         16.955313\n",
       "3         24.016118\n",
       "4         20.390672\n",
       "            ...    \n",
       "17653    131.485924\n",
       "17654    141.768584\n",
       "17655    148.638968\n",
       "17656    142.827090\n",
       "17657    137.316829\n",
       "Name: avg_wait_time, Length: 17658, dtype: float64"
      ]
     },
     "execution_count": 88,
     "metadata": {},
     "output_type": "execute_result"
    }
   ],
   "execution_count": 88
  },
  {
   "metadata": {
    "ExecuteTime": {
     "end_time": "2025-03-22T10:49:37.594450Z",
     "start_time": "2025-03-22T10:49:37.579228Z"
    }
   },
   "cell_type": "code",
   "source": [
    "replication_avg = (\n",
    "    tourist_avg_waits.groupby(\"replication_no\")[\"avg_wait_time\"]\n",
    "    .mean()\n",
    "    .reset_index()\n",
    "    .rename(columns={\"avg_wait_time\": \"average_wait_time_per_tourist\"})\n",
    ")\n",
    "replication_avg"
   ],
   "id": "3e4a2ab9d3ce2063",
   "outputs": [
    {
     "data": {
      "text/plain": [
       "   replication_no  average_wait_time_per_tourist\n",
       "0               1                      94.495149\n",
       "1               2                     340.227298\n",
       "2               3                     237.282177\n",
       "3               4                     259.115249\n",
       "4               5                     135.383600\n",
       "5               6                      82.135496"
      ],
      "text/html": [
       "<div>\n",
       "<style scoped>\n",
       "    .dataframe tbody tr th:only-of-type {\n",
       "        vertical-align: middle;\n",
       "    }\n",
       "\n",
       "    .dataframe tbody tr th {\n",
       "        vertical-align: top;\n",
       "    }\n",
       "\n",
       "    .dataframe thead th {\n",
       "        text-align: right;\n",
       "    }\n",
       "</style>\n",
       "<table border=\"1\" class=\"dataframe\">\n",
       "  <thead>\n",
       "    <tr style=\"text-align: right;\">\n",
       "      <th></th>\n",
       "      <th>replication_no</th>\n",
       "      <th>average_wait_time_per_tourist</th>\n",
       "    </tr>\n",
       "  </thead>\n",
       "  <tbody>\n",
       "    <tr>\n",
       "      <th>0</th>\n",
       "      <td>1</td>\n",
       "      <td>94.495149</td>\n",
       "    </tr>\n",
       "    <tr>\n",
       "      <th>1</th>\n",
       "      <td>2</td>\n",
       "      <td>340.227298</td>\n",
       "    </tr>\n",
       "    <tr>\n",
       "      <th>2</th>\n",
       "      <td>3</td>\n",
       "      <td>237.282177</td>\n",
       "    </tr>\n",
       "    <tr>\n",
       "      <th>3</th>\n",
       "      <td>4</td>\n",
       "      <td>259.115249</td>\n",
       "    </tr>\n",
       "    <tr>\n",
       "      <th>4</th>\n",
       "      <td>5</td>\n",
       "      <td>135.383600</td>\n",
       "    </tr>\n",
       "    <tr>\n",
       "      <th>5</th>\n",
       "      <td>6</td>\n",
       "      <td>82.135496</td>\n",
       "    </tr>\n",
       "  </tbody>\n",
       "</table>\n",
       "</div>"
      ]
     },
     "execution_count": 89,
     "metadata": {},
     "output_type": "execute_result"
    }
   ],
   "execution_count": 89
  },
  {
   "metadata": {},
   "cell_type": "code",
   "outputs": [],
   "execution_count": null,
   "source": "",
   "id": "443f876d523b2736"
  }
 ],
 "metadata": {
  "kernelspec": {
   "display_name": "Python 3",
   "language": "python",
   "name": "python3"
  },
  "language_info": {
   "codemirror_mode": {
    "name": "ipython",
    "version": 2
   },
   "file_extension": ".py",
   "mimetype": "text/x-python",
   "name": "python",
   "nbconvert_exporter": "python",
   "pygments_lexer": "ipython2",
   "version": "2.7.6"
  }
 },
 "nbformat": 4,
 "nbformat_minor": 5
}
